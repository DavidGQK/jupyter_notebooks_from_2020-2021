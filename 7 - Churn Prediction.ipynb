{
 "cells": [
  {
   "cell_type": "markdown",
   "metadata": {},
   "source": [
    "# Description of the project"
   ]
  },
  {
   "cell_type": "markdown",
   "metadata": {},
   "source": [
    "Customers began to leave Beta-Bank. Every month. A little, but noticeable. Bank marketers considered: to save\n",
    "current customers are cheaper than acquiring new ones. <br />\n",
    "<br />\n",
    "It is necessary to predict whether the client will leave the bank in the near future or not. You are provided with historical behavioral data\n",
    "customers and termination of agreements with the bank. <br />\n",
    "<br />\n",
    "It is necessary to build a model with an extremely large value of the F1-measure. You need to bring the metric to 0.59 and check it (F1-measure)\n",
    "on the test set. Also additionally calculate the AUC-ROC and compare its value with the F1-measure."
   ]
  },
  {
   "cell_type": "markdown",
   "metadata": {},
   "source": [
    "# Description of data"
   ]
  },
  {
   "cell_type": "markdown",
   "metadata": {},
   "source": [
    "Signs: <br />\n",
    "- RowNumber - row index in the data\n",
    "- CustomerId — unique customer identifier\n",
    "- Surname - surname\n",
    "- CreditScore - credit rating\n",
    "- Geography - country of residence\n",
    "- Gender - gender\n",
    "- Age - age\n",
    "- Tenure - the amount of real estate the client has\n",
    "- Balance - account balance\n",
    "- NumOfProducts - the number of bank products used by the client\n",
    "- HasCrCard - the presence of a credit card\n",
    "- IsActiveMember - client activity\n",
    "- EstimatedSalary - estimated salary\n",
    "\n",
    "Target sign: <br />\n",
    "- Exited - the fact that the client left"
   ]
  },
  {
   "cell_type": "markdown",
   "metadata": {},
   "source": [
    "# Import data files, study general information"
   ]
  },
  {
   "cell_type": "code",
   "execution_count": 1,
   "metadata": {},
   "outputs": [],
   "source": [
    "import pandas as pd\n",
    "from IPython.display import display\n",
    "\n",
    "\n",
    "from sklearn.preprocessing import StandardScaler\n",
    "from sklearn.model_selection import train_test_split\n",
    "from sklearn.utils import shuffle\n",
    "\n",
    "from sklearn.ensemble import RandomForestClassifier\n",
    "from sklearn.tree import DecisionTreeClassifier\n",
    "from sklearn.linear_model import LogisticRegression\n",
    "\n",
    "from sklearn.metrics import accuracy_score\n",
    "from sklearn.metrics import confusion_matrix\n",
    "from sklearn.metrics import recall_score\n",
    "from sklearn.metrics import precision_score\n",
    "from sklearn.metrics import f1_score\n",
    "\n",
    "from sklearn.metrics import roc_curve\n",
    "from sklearn.metrics import roc_auc_score\n",
    "\n",
    "from sklearn.dummy import DummyClassifier\n",
    "\n",
    "import matplotlib.pyplot as plt\n",
    "\n",
    "pd.set_option('display.max_rows', 1000)\n",
    "pd.set_option('display.max_columns', 1000)"
   ]
  },
  {
   "cell_type": "code",
   "execution_count": 2,
   "metadata": {
    "scrolled": true
   },
   "outputs": [
    {
     "data": {
      "text/html": [
       "<div>\n",
       "<style scoped>\n",
       "    .dataframe tbody tr th:only-of-type {\n",
       "        vertical-align: middle;\n",
       "    }\n",
       "\n",
       "    .dataframe tbody tr th {\n",
       "        vertical-align: top;\n",
       "    }\n",
       "\n",
       "    .dataframe thead th {\n",
       "        text-align: right;\n",
       "    }\n",
       "</style>\n",
       "<table border=\"1\" class=\"dataframe\">\n",
       "  <thead>\n",
       "    <tr style=\"text-align: right;\">\n",
       "      <th></th>\n",
       "      <th>RowNumber</th>\n",
       "      <th>CustomerId</th>\n",
       "      <th>Surname</th>\n",
       "      <th>CreditScore</th>\n",
       "      <th>Geography</th>\n",
       "      <th>Gender</th>\n",
       "      <th>Age</th>\n",
       "      <th>Tenure</th>\n",
       "      <th>Balance</th>\n",
       "      <th>NumOfProducts</th>\n",
       "      <th>HasCrCard</th>\n",
       "      <th>IsActiveMember</th>\n",
       "      <th>EstimatedSalary</th>\n",
       "      <th>Exited</th>\n",
       "    </tr>\n",
       "  </thead>\n",
       "  <tbody>\n",
       "    <tr>\n",
       "      <th>0</th>\n",
       "      <td>1</td>\n",
       "      <td>15634602</td>\n",
       "      <td>Hargrave</td>\n",
       "      <td>619</td>\n",
       "      <td>France</td>\n",
       "      <td>Female</td>\n",
       "      <td>42</td>\n",
       "      <td>2.0</td>\n",
       "      <td>0.00</td>\n",
       "      <td>1</td>\n",
       "      <td>1</td>\n",
       "      <td>1</td>\n",
       "      <td>101348.88</td>\n",
       "      <td>1</td>\n",
       "    </tr>\n",
       "    <tr>\n",
       "      <th>1</th>\n",
       "      <td>2</td>\n",
       "      <td>15647311</td>\n",
       "      <td>Hill</td>\n",
       "      <td>608</td>\n",
       "      <td>Spain</td>\n",
       "      <td>Female</td>\n",
       "      <td>41</td>\n",
       "      <td>1.0</td>\n",
       "      <td>83807.86</td>\n",
       "      <td>1</td>\n",
       "      <td>0</td>\n",
       "      <td>1</td>\n",
       "      <td>112542.58</td>\n",
       "      <td>0</td>\n",
       "    </tr>\n",
       "    <tr>\n",
       "      <th>2</th>\n",
       "      <td>3</td>\n",
       "      <td>15619304</td>\n",
       "      <td>Onio</td>\n",
       "      <td>502</td>\n",
       "      <td>France</td>\n",
       "      <td>Female</td>\n",
       "      <td>42</td>\n",
       "      <td>8.0</td>\n",
       "      <td>159660.80</td>\n",
       "      <td>3</td>\n",
       "      <td>1</td>\n",
       "      <td>0</td>\n",
       "      <td>113931.57</td>\n",
       "      <td>1</td>\n",
       "    </tr>\n",
       "    <tr>\n",
       "      <th>3</th>\n",
       "      <td>4</td>\n",
       "      <td>15701354</td>\n",
       "      <td>Boni</td>\n",
       "      <td>699</td>\n",
       "      <td>France</td>\n",
       "      <td>Female</td>\n",
       "      <td>39</td>\n",
       "      <td>1.0</td>\n",
       "      <td>0.00</td>\n",
       "      <td>2</td>\n",
       "      <td>0</td>\n",
       "      <td>0</td>\n",
       "      <td>93826.63</td>\n",
       "      <td>0</td>\n",
       "    </tr>\n",
       "    <tr>\n",
       "      <th>4</th>\n",
       "      <td>5</td>\n",
       "      <td>15737888</td>\n",
       "      <td>Mitchell</td>\n",
       "      <td>850</td>\n",
       "      <td>Spain</td>\n",
       "      <td>Female</td>\n",
       "      <td>43</td>\n",
       "      <td>2.0</td>\n",
       "      <td>125510.82</td>\n",
       "      <td>1</td>\n",
       "      <td>1</td>\n",
       "      <td>1</td>\n",
       "      <td>79084.10</td>\n",
       "      <td>0</td>\n",
       "    </tr>\n",
       "    <tr>\n",
       "      <th>...</th>\n",
       "      <td>...</td>\n",
       "      <td>...</td>\n",
       "      <td>...</td>\n",
       "      <td>...</td>\n",
       "      <td>...</td>\n",
       "      <td>...</td>\n",
       "      <td>...</td>\n",
       "      <td>...</td>\n",
       "      <td>...</td>\n",
       "      <td>...</td>\n",
       "      <td>...</td>\n",
       "      <td>...</td>\n",
       "      <td>...</td>\n",
       "      <td>...</td>\n",
       "    </tr>\n",
       "    <tr>\n",
       "      <th>9995</th>\n",
       "      <td>9996</td>\n",
       "      <td>15606229</td>\n",
       "      <td>Obijiaku</td>\n",
       "      <td>771</td>\n",
       "      <td>France</td>\n",
       "      <td>Male</td>\n",
       "      <td>39</td>\n",
       "      <td>5.0</td>\n",
       "      <td>0.00</td>\n",
       "      <td>2</td>\n",
       "      <td>1</td>\n",
       "      <td>0</td>\n",
       "      <td>96270.64</td>\n",
       "      <td>0</td>\n",
       "    </tr>\n",
       "    <tr>\n",
       "      <th>9996</th>\n",
       "      <td>9997</td>\n",
       "      <td>15569892</td>\n",
       "      <td>Johnstone</td>\n",
       "      <td>516</td>\n",
       "      <td>France</td>\n",
       "      <td>Male</td>\n",
       "      <td>35</td>\n",
       "      <td>10.0</td>\n",
       "      <td>57369.61</td>\n",
       "      <td>1</td>\n",
       "      <td>1</td>\n",
       "      <td>1</td>\n",
       "      <td>101699.77</td>\n",
       "      <td>0</td>\n",
       "    </tr>\n",
       "    <tr>\n",
       "      <th>9997</th>\n",
       "      <td>9998</td>\n",
       "      <td>15584532</td>\n",
       "      <td>Liu</td>\n",
       "      <td>709</td>\n",
       "      <td>France</td>\n",
       "      <td>Female</td>\n",
       "      <td>36</td>\n",
       "      <td>7.0</td>\n",
       "      <td>0.00</td>\n",
       "      <td>1</td>\n",
       "      <td>0</td>\n",
       "      <td>1</td>\n",
       "      <td>42085.58</td>\n",
       "      <td>1</td>\n",
       "    </tr>\n",
       "    <tr>\n",
       "      <th>9998</th>\n",
       "      <td>9999</td>\n",
       "      <td>15682355</td>\n",
       "      <td>Sabbatini</td>\n",
       "      <td>772</td>\n",
       "      <td>Germany</td>\n",
       "      <td>Male</td>\n",
       "      <td>42</td>\n",
       "      <td>3.0</td>\n",
       "      <td>75075.31</td>\n",
       "      <td>2</td>\n",
       "      <td>1</td>\n",
       "      <td>0</td>\n",
       "      <td>92888.52</td>\n",
       "      <td>1</td>\n",
       "    </tr>\n",
       "    <tr>\n",
       "      <th>9999</th>\n",
       "      <td>10000</td>\n",
       "      <td>15628319</td>\n",
       "      <td>Walker</td>\n",
       "      <td>792</td>\n",
       "      <td>France</td>\n",
       "      <td>Female</td>\n",
       "      <td>28</td>\n",
       "      <td>NaN</td>\n",
       "      <td>130142.79</td>\n",
       "      <td>1</td>\n",
       "      <td>1</td>\n",
       "      <td>0</td>\n",
       "      <td>38190.78</td>\n",
       "      <td>0</td>\n",
       "    </tr>\n",
       "  </tbody>\n",
       "</table>\n",
       "<p>10000 rows × 14 columns</p>\n",
       "</div>"
      ],
      "text/plain": [
       "      RowNumber  CustomerId    Surname  CreditScore Geography  Gender  Age  \\\n",
       "0             1    15634602   Hargrave          619    France  Female   42   \n",
       "1             2    15647311       Hill          608     Spain  Female   41   \n",
       "2             3    15619304       Onio          502    France  Female   42   \n",
       "3             4    15701354       Boni          699    France  Female   39   \n",
       "4             5    15737888   Mitchell          850     Spain  Female   43   \n",
       "...         ...         ...        ...          ...       ...     ...  ...   \n",
       "9995       9996    15606229   Obijiaku          771    France    Male   39   \n",
       "9996       9997    15569892  Johnstone          516    France    Male   35   \n",
       "9997       9998    15584532        Liu          709    France  Female   36   \n",
       "9998       9999    15682355  Sabbatini          772   Germany    Male   42   \n",
       "9999      10000    15628319     Walker          792    France  Female   28   \n",
       "\n",
       "      Tenure    Balance  NumOfProducts  HasCrCard  IsActiveMember  \\\n",
       "0        2.0       0.00              1          1               1   \n",
       "1        1.0   83807.86              1          0               1   \n",
       "2        8.0  159660.80              3          1               0   \n",
       "3        1.0       0.00              2          0               0   \n",
       "4        2.0  125510.82              1          1               1   \n",
       "...      ...        ...            ...        ...             ...   \n",
       "9995     5.0       0.00              2          1               0   \n",
       "9996    10.0   57369.61              1          1               1   \n",
       "9997     7.0       0.00              1          0               1   \n",
       "9998     3.0   75075.31              2          1               0   \n",
       "9999     NaN  130142.79              1          1               0   \n",
       "\n",
       "      EstimatedSalary  Exited  \n",
       "0           101348.88       1  \n",
       "1           112542.58       0  \n",
       "2           113931.57       1  \n",
       "3            93826.63       0  \n",
       "4            79084.10       0  \n",
       "...               ...     ...  \n",
       "9995         96270.64       0  \n",
       "9996        101699.77       0  \n",
       "9997         42085.58       1  \n",
       "9998         92888.52       1  \n",
       "9999         38190.78       0  \n",
       "\n",
       "[10000 rows x 14 columns]"
      ]
     },
     "metadata": {},
     "output_type": "display_data"
    },
    {
     "name": "stdout",
     "output_type": "stream",
     "text": [
      "<class 'pandas.core.frame.DataFrame'>\n",
      "RangeIndex: 10000 entries, 0 to 9999\n",
      "Data columns (total 14 columns):\n",
      " #   Column           Non-Null Count  Dtype  \n",
      "---  ------           --------------  -----  \n",
      " 0   RowNumber        10000 non-null  int64  \n",
      " 1   CustomerId       10000 non-null  int64  \n",
      " 2   Surname          10000 non-null  object \n",
      " 3   CreditScore      10000 non-null  int64  \n",
      " 4   Geography        10000 non-null  object \n",
      " 5   Gender           10000 non-null  object \n",
      " 6   Age              10000 non-null  int64  \n",
      " 7   Tenure           9091 non-null   float64\n",
      " 8   Balance          10000 non-null  float64\n",
      " 9   NumOfProducts    10000 non-null  int64  \n",
      " 10  HasCrCard        10000 non-null  int64  \n",
      " 11  IsActiveMember   10000 non-null  int64  \n",
      " 12  EstimatedSalary  10000 non-null  float64\n",
      " 13  Exited           10000 non-null  int64  \n",
      "dtypes: float64(3), int64(8), object(3)\n",
      "memory usage: 1.1+ MB\n"
     ]
    }
   ],
   "source": [
    "#df = pd.read_csv('Churn.csv', sep=',')\n",
    "df = pd.read_csv('/datasets/Churn.csv', sep=',')\n",
    "display(df)\n",
    "df.info()"
   ]
  },
  {
   "cell_type": "markdown",
   "metadata": {},
   "source": [
    "# Data preparation"
   ]
  },
  {
   "cell_type": "markdown",
   "metadata": {},
   "source": [
    "Get rid of unnecessary features"
   ]
  },
  {
   "cell_type": "code",
   "execution_count": 3,
   "metadata": {},
   "outputs": [],
   "source": [
    "df = df.drop(['RowNumber', 'CustomerId', 'Surname'], axis=1)"
   ]
  },
  {
   "cell_type": "markdown",
   "metadata": {},
   "source": [
    "There are gaps in the Tenure feature, 9 in total. Let's get rid of them"
   ]
  },
  {
   "cell_type": "code",
   "execution_count": 4,
   "metadata": {},
   "outputs": [
    {
     "name": "stdout",
     "output_type": "stream",
     "text": [
      "<class 'pandas.core.frame.DataFrame'>\n",
      "RangeIndex: 9091 entries, 0 to 9090\n",
      "Data columns (total 11 columns):\n",
      " #   Column           Non-Null Count  Dtype  \n",
      "---  ------           --------------  -----  \n",
      " 0   CreditScore      9091 non-null   int64  \n",
      " 1   Geography        9091 non-null   object \n",
      " 2   Gender           9091 non-null   object \n",
      " 3   Age              9091 non-null   int64  \n",
      " 4   Tenure           9091 non-null   float64\n",
      " 5   Balance          9091 non-null   float64\n",
      " 6   NumOfProducts    9091 non-null   int64  \n",
      " 7   HasCrCard        9091 non-null   int64  \n",
      " 8   IsActiveMember   9091 non-null   int64  \n",
      " 9   EstimatedSalary  9091 non-null   float64\n",
      " 10  Exited           9091 non-null   int64  \n",
      "dtypes: float64(3), int64(6), object(2)\n",
      "memory usage: 781.4+ KB\n"
     ]
    }
   ],
   "source": [
    "index = df.query('Tenure == \"NaN\"').index\n",
    "df = df.drop(index).reset_index(drop=True)\n",
    "df.info()"
   ]
  },
  {
   "cell_type": "markdown",
   "metadata": {},
   "source": [
    "Let's transform categorical features into quantitative ones"
   ]
  },
  {
   "cell_type": "code",
   "execution_count": 5,
   "metadata": {},
   "outputs": [],
   "source": [
    "df_ohe = pd.get_dummies(df, drop_first=True)"
   ]
  },
  {
   "cell_type": "code",
   "execution_count": 6,
   "metadata": {},
   "outputs": [
    {
     "name": "stdout",
     "output_type": "stream",
     "text": [
      "CreditScore            int64\n",
      "Age                    int64\n",
      "Tenure               float64\n",
      "Balance              float64\n",
      "NumOfProducts          int64\n",
      "HasCrCard              int64\n",
      "IsActiveMember         int64\n",
      "EstimatedSalary      float64\n",
      "Exited                 int64\n",
      "Geography_Germany      uint8\n",
      "Geography_Spain        uint8\n",
      "Gender_Male            uint8\n",
      "dtype: object\n"
     ]
    }
   ],
   "source": [
    "print(df_ohe.dtypes)"
   ]
  },
  {
   "cell_type": "markdown",
   "metadata": {},
   "source": [
    "Divide the samples into sets with features and a target feature"
   ]
  },
  {
   "cell_type": "code",
   "execution_count": 7,
   "metadata": {},
   "outputs": [],
   "source": [
    "features = df_ohe.drop(['Exited'], axis=1)\n",
    "target = df_ohe['Exited']"
   ]
  },
  {
   "cell_type": "markdown",
   "metadata": {},
   "source": [
    "Let's divide the data into three samples: train, validation test in the ratio `3 : 1 : 1`"
   ]
  },
  {
   "cell_type": "code",
   "execution_count": 8,
   "metadata": {
    "scrolled": true
   },
   "outputs": [
    {
     "name": "stdout",
     "output_type": "stream",
     "text": [
      "(9091, 11)\n",
      "(5454, 11)\n",
      "(1819, 11)\n",
      "(1818, 11)\n"
     ]
    }
   ],
   "source": [
    "features_train, features_valid = train_test_split(features, test_size=0.20, random_state=12345)\n",
    "features_train, features_test = train_test_split(features_train, test_size=0.25, random_state=12345)\n",
    "\n",
    "target_train, target_valid = train_test_split(target, test_size=0.20, random_state=12345)\n",
    "target_train, target_test = train_test_split(target_train, test_size=0.25, random_state=12345)\n",
    "\n",
    "print(features.shape)\n",
    "print(features_train.shape)\n",
    "print(features_valid.shape)\n",
    "print(features_test.shape)"
   ]
  },
  {
   "cell_type": "markdown",
   "metadata": {},
   "source": [
    "Scale features"
   ]
  },
  {
   "cell_type": "code",
   "execution_count": 9,
   "metadata": {},
   "outputs": [
    {
     "name": "stderr",
     "output_type": "stream",
     "text": [
      "C:\\ProgramData\\Anaconda3\\lib\\site-packages\\pandas\\core\\indexing.py:1736: SettingWithCopyWarning: \n",
      "A value is trying to be set on a copy of a slice from a DataFrame.\n",
      "Try using .loc[row_indexer,col_indexer] = value instead\n",
      "\n",
      "See the caveats in the documentation: https://pandas.pydata.org/pandas-docs/stable/user_guide/indexing.html#returning-a-view-versus-a-copy\n",
      "  isetter(loc, value[:, i].tolist())\n"
     ]
    }
   ],
   "source": [
    "numeric = ['CreditScore', 'Age', 'Tenure', 'Balance', 'NumOfProducts', 'HasCrCard', 'IsActiveMember', 'EstimatedSalary']\n",
    "\n",
    "scaler = StandardScaler()\n",
    "scaler.fit(features_train.loc[:, numeric])\n",
    "features_train.loc[:, numeric] = scaler.transform(features_train.loc[:, numeric])\n",
    "features_valid.loc[:, numeric] = scaler.transform(features_valid.loc[:, numeric])\n",
    "features_test.loc[:, numeric] = scaler.transform(features_test.loc[:, numeric])"
   ]
  },
  {
   "cell_type": "markdown",
   "metadata": {},
   "source": [
    "# Exploring models without class imbalance"
   ]
  },
  {
   "cell_type": "markdown",
   "metadata": {},
   "source": [
    "## Model: decision tree"
   ]
  },
  {
   "cell_type": "code",
   "execution_count": 10,
   "metadata": {
    "scrolled": false
   },
   "outputs": [
    {
     "name": "stdout",
     "output_type": "stream",
     "text": [
      "max_depth = 1\n",
      "F1: 0.0\n",
      "\n",
      "max_depth = 2\n",
      "F1: 0.5234248788368336\n",
      "\n",
      "max_depth = 3\n",
      "F1: 0.3907563025210084\n",
      "\n",
      "max_depth = 4\n",
      "F1: 0.41493775933609955\n",
      "\n",
      "max_depth = 5\n",
      "F1: 0.5831960461285008\n",
      "\n",
      "max_depth = 6\n",
      "F1: 0.5437956204379562\n",
      "\n",
      "max_depth = 7\n",
      "F1: 0.585209003215434\n",
      "\n",
      "max_depth = 8\n",
      "F1: 0.5513866231647635\n",
      "\n",
      "max_depth = 9\n",
      "F1: 0.5942684766214177\n",
      "\n",
      "max_depth = 10\n",
      "F1: 0.5147286821705426\n",
      "\n",
      "max_depth = 11\n",
      "F1: 0.5171898355754858\n",
      "\n"
     ]
    }
   ],
   "source": [
    "for depth in range(1, 12):\n",
    "    \n",
    "    model_dec_tree = DecisionTreeClassifier(random_state=12345, max_depth=depth) \n",
    "    model_dec_tree.fit(features_train, target_train)\n",
    "    predicted_valid = model_dec_tree.predict(features_valid)\n",
    "    result = accuracy_score(target_valid, predicted_valid)\n",
    "    \n",
    "    print('max_depth =', depth)\n",
    "    print(\"F1:\", f1_score(target_valid, predicted_valid))\n",
    "    print()"
   ]
  },
  {
   "cell_type": "markdown",
   "metadata": {},
   "source": [
    "Retrain the model with better parameters"
   ]
  },
  {
   "cell_type": "code",
   "execution_count": 11,
   "metadata": {},
   "outputs": [
    {
     "data": {
      "text/plain": [
       "DecisionTreeClassifier(max_depth=9, random_state=12345)"
      ]
     },
     "execution_count": 11,
     "metadata": {},
     "output_type": "execute_result"
    }
   ],
   "source": [
    "model_dec_tree = DecisionTreeClassifier(random_state=12345, max_depth=9) \n",
    "model_dec_tree.fit(features_train, target_train)"
   ]
  },
  {
   "cell_type": "markdown",
   "metadata": {},
   "source": [
    "## Model: random forest"
   ]
  },
  {
   "cell_type": "code",
   "execution_count": 12,
   "metadata": {
    "scrolled": false
   },
   "outputs": [
    {
     "name": "stdout",
     "output_type": "stream",
     "text": [
      "n_estimators = 10\n",
      "F1: 0.5236363636363636\n",
      "\n",
      "n_estimators = 15\n",
      "F1: 0.5342960288808665\n",
      "\n",
      "n_estimators = 20\n",
      "F1: 0.5352622061482822\n",
      "\n",
      "n_estimators = 25\n",
      "F1: 0.5280289330922242\n",
      "\n",
      "n_estimators = 30\n",
      "F1: 0.5287769784172661\n",
      "\n",
      "n_estimators = 35\n",
      "F1: 0.5376344086021504\n",
      "\n",
      "n_estimators = 40\n",
      "F1: 0.5342960288808665\n",
      "\n",
      "n_estimators = 45\n",
      "F1: 0.5431654676258992\n",
      "\n",
      "n_estimators = 50\n",
      "F1: 0.5352622061482822\n",
      "\n",
      "n_estimators = 55\n",
      "F1: 0.5352622061482822\n",
      "\n",
      "n_estimators = 60\n",
      "F1: 0.5263157894736842\n",
      "\n",
      "n_estimators = 65\n",
      "F1: 0.5335753176043557\n",
      "\n",
      "n_estimators = 70\n",
      "F1: 0.5369369369369369\n",
      "\n",
      "n_estimators = 75\n",
      "F1: 0.5379061371841154\n",
      "\n",
      "n_estimators = 80\n",
      "F1: 0.5405405405405406\n",
      "\n",
      "n_estimators = 85\n",
      "F1: 0.5405405405405406\n",
      "\n",
      "n_estimators = 90\n",
      "F1: 0.5335753176043557\n",
      "\n",
      "n_estimators = 95\n",
      "F1: 0.5362318840579711\n",
      "\n",
      "n_estimators = 100\n",
      "F1: 0.5335753176043557\n",
      "\n"
     ]
    }
   ],
   "source": [
    "for est in range(10, 102, 5):\n",
    "    \n",
    "    model_ran_forest = RandomForestClassifier(random_state=12345, n_estimators=est, max_depth=9)\n",
    "    model_ran_forest.fit(features_train, target_train)\n",
    "    predicted_valid = model_ran_forest.predict(features_valid)\n",
    "    \n",
    "    print('n_estimators =', est)\n",
    "    print(\"F1:\", f1_score(target_valid, predicted_valid))\n",
    "    print()"
   ]
  },
  {
   "cell_type": "markdown",
   "metadata": {},
   "source": [
    "Retrain the model with better parameters"
   ]
  },
  {
   "cell_type": "code",
   "execution_count": 13,
   "metadata": {},
   "outputs": [
    {
     "data": {
      "text/plain": [
       "RandomForestClassifier(max_depth=9, n_estimators=45, random_state=12345)"
      ]
     },
     "execution_count": 13,
     "metadata": {},
     "output_type": "execute_result"
    }
   ],
   "source": [
    "model_ran_forest = RandomForestClassifier(random_state=12345, n_estimators=45, max_depth=9)\n",
    "model_ran_forest.fit(features_train, target_train) "
   ]
  },
  {
   "cell_type": "markdown",
   "metadata": {},
   "source": [
    "## Model: logistic regression"
   ]
  },
  {
   "cell_type": "code",
   "execution_count": 14,
   "metadata": {},
   "outputs": [
    {
     "name": "stdout",
     "output_type": "stream",
     "text": [
      "F1: 0.32926829268292684\n"
     ]
    }
   ],
   "source": [
    "model_log_reg = LogisticRegression(random_state=12345, solver='liblinear')\n",
    "model_log_reg.fit(features_train, target_train)\n",
    "predicted_valid = model_log_reg.predict(features_valid)\n",
    "\n",
    "print(\"F1:\", f1_score(target_valid, predicted_valid))"
   ]
  },
  {
   "cell_type": "markdown",
   "metadata": {},
   "source": [
    "## Checking models on a test set"
   ]
  },
  {
   "cell_type": "code",
   "execution_count": 15,
   "metadata": {},
   "outputs": [
    {
     "name": "stdout",
     "output_type": "stream",
     "text": [
      "Модель решающего дерева на тестовой выборке выборке:\n",
      "F1: 0.557427258805513\n",
      "auc_roc: 0.8062753089765011\n",
      "\n",
      "Модель случайного леса на тестовой выборке выборке:\n",
      "F1: 0.5272727272727272\n",
      "auc_roc: 0.8479692604133737\n",
      "\n",
      "Модель логистической регрессии на тестовой выборке выборке:\n",
      "F1: 0.3004115226337448\n",
      "auc_roc: 0.7725917897303888\n",
      "\n"
     ]
    }
   ],
   "source": [
    "predicted_test = model_dec_tree.predict(features_test)\n",
    "\n",
    "print(\"Decision tree model on the test sample:\")\n",
    "print(\"F1:\", f1_score(target_test, predicted_test))\n",
    "\n",
    "probabilities_test = model_dec_tree.predict_proba(features_test)\n",
    "probabilities_one_test = probabilities_test[:, 1]\n",
    "fpr_tree, tpr_tree, thresholds_tree = roc_curve(target_test, probabilities_one_test) \n",
    "print('auc_roc:', roc_auc_score(target_test, probabilities_one_test))\n",
    "print()\n",
    "#//\n",
    "#//\n",
    "predicted_test = model_ran_forest.predict(features_test)\n",
    "\n",
    "print(\"Random forest model on a test sample:\")\n",
    "print(\"F1:\", f1_score(target_test, predicted_test))\n",
    "\n",
    "probabilities_test = model_ran_forest.predict_proba(features_test)\n",
    "probabilities_one_test = probabilities_test[:, 1]\n",
    "fpr_for, tpr_for, thresholds_for = roc_curve(target_test, probabilities_one_test) \n",
    "print('auc_roc:', roc_auc_score(target_test, probabilities_one_test))\n",
    "print()\n",
    "#//\n",
    "#//\n",
    "predicted_test = model_log_reg.predict(features_test)\n",
    "\n",
    "print(\"Logistic regression model on a test sample:\")\n",
    "print(\"F1:\", f1_score(target_test, predicted_test))\n",
    "\n",
    "probabilities_test = model_log_reg.predict_proba(features_test)\n",
    "probabilities_one_test = probabilities_test[:, 1]\n",
    "fpr_reg, tpr_reg, thresholds_reg = roc_curve(target_test, probabilities_one_test) \n",
    "print('auc_roc:', roc_auc_score(target_test, probabilities_one_test))\n",
    "print()"
   ]
  },
  {
   "cell_type": "markdown",
   "metadata": {},
   "source": [
    "Let's build the ROC curves of the models and the ROC curve of the random model"
   ]
  },
  {
   "cell_type": "code",
   "execution_count": 16,
   "metadata": {},
   "outputs": [
    {
     "data": {
      "image/png": "[encoded data removed]",
      "text/plain": [
       "<Figure size 1080x1080 with 1 Axes>"
      ]
     },
     "metadata": {
      "needs_background": "light"
     },
     "output_type": "display_data"
    }
   ],
   "source": [
    "plt.figure(figsize=(15,15))\n",
    "\n",
    "plt.plot(fpr_tree, tpr_tree, label='Tree')\n",
    "plt.plot(fpr_for, tpr_for, label='Forest')\n",
    "plt.plot(fpr_reg, tpr_reg, label='Log_regression')\n",
    "\n",
    "# ROC-curve of a random model\n",
    "plt.plot([0, 1], [0, 1], linestyle='--')\n",
    "\n",
    "# ROC-curve of a random model\n",
    "plt.xlim([0,1])\n",
    "plt.ylim([0,1])\n",
    "\n",
    "# label the axes \"False Positive Rate\" and \"True Positive Rate\"\n",
    "plt.xlabel('False Positive Rate')\n",
    "plt.ylabel('True Positive Rate')\n",
    "\n",
    "# add title \"ROC curve\" with plt.title() function\n",
    "plt.title('ROC-кривая')\n",
    "\n",
    "# add a legend\n",
    "legend = plt.legend(loc='lower right', shadow=False, fontsize='x-large')\n",
    "\n",
    "plt.show()"
   ]
  },
  {
   "cell_type": "markdown",
   "metadata": {},
   "source": [
    "Output: <br />\n",
    "<br />\n",
    "The decision tree has the best F1 measure, followed by the random forest. <br />\n",
    "Random Forest has the largest area under the curve, but Decisive Forest comes in second."
   ]
  },
  {
   "cell_type": "markdown",
   "metadata": {},
   "source": [
    "# Investigation of models taking into account the imbalance of classes"
   ]
  },
  {
   "cell_type": "markdown",
   "metadata": {},
   "source": [
    "## Prepare the data in the same way as before, only take into account the imbalance of classes"
   ]
  },
  {
   "cell_type": "markdown",
   "metadata": {},
   "source": [
    "Divide the samples into sets with features and a target feature"
   ]
  },
  {
   "cell_type": "code",
   "execution_count": 17,
   "metadata": {},
   "outputs": [],
   "source": [
    "features = df_ohe.drop(['Exited'], axis=1)\n",
    "target = df_ohe['Exited']"
   ]
  },
  {
   "cell_type": "markdown",
   "metadata": {},
   "source": [
    "Let's divide the data into three samples: train, validation test in the ratio `3 : 1 : 1`"
   ]
  },
  {
   "cell_type": "code",
   "execution_count": 18,
   "metadata": {},
   "outputs": [
    {
     "name": "stdout",
     "output_type": "stream",
     "text": [
      "(9091, 11)\n",
      "(5454, 11)\n",
      "(1819, 11)\n",
      "(1818, 11)\n"
     ]
    }
   ],
   "source": [
    "features_train, features_valid = train_test_split(features, test_size=0.20, random_state=12345)\n",
    "features_train, features_test = train_test_split(features_train, test_size=0.25, random_state=12345)\n",
    "\n",
    "target_train, target_valid = train_test_split(target, test_size=0.20, random_state=12345)\n",
    "target_train, target_test = train_test_split(target_train, test_size=0.25, random_state=12345)\n",
    "\n",
    "print(features.shape)\n",
    "print(features_train.shape)\n",
    "print(features_valid.shape)\n",
    "print(features_test.shape)"
   ]
  },
  {
   "cell_type": "markdown",
   "metadata": {},
   "source": [
    "Let's calculate the imbalance of classes"
   ]
  },
  {
   "cell_type": "code",
   "execution_count": 19,
   "metadata": {
    "scrolled": true
   },
   "outputs": [
    {
     "name": "stdout",
     "output_type": "stream",
     "text": [
      "0    0.796062\n",
      "1    0.203938\n",
      "Name: Exited, dtype: float64\n"
     ]
    },
    {
     "data": {
      "text/plain": [
       "<AxesSubplot:>"
      ]
     },
     "execution_count": 19,
     "metadata": {},
     "output_type": "execute_result"
    },
    {
     "data": {
      "image/png": "[encoded data removed]",
      "text/plain": [
       "<Figure size 432x288 with 1 Axes>"
      ]
     },
     "metadata": {
      "needs_background": "light"
     },
     "output_type": "display_data"
    }
   ],
   "source": [
    "class_frequency = df_ohe['Exited'].value_counts(normalize=True)\n",
    "print(class_frequency)\n",
    "class_frequency.plot(kind='bar')"
   ]
  },
  {
   "cell_type": "markdown",
   "metadata": {},
   "source": [
    "We balance the samples by increasing the rare class. It was also possible to balance them by setting the `class_weight='balanced'` parameter when setting up the model."
   ]
  },
  {
   "cell_type": "code",
   "execution_count": 20,
   "metadata": {},
   "outputs": [
    {
     "name": "stdout",
     "output_type": "stream",
     "text": [
      "(4335, 11)\n",
      "(4476, 11)\n",
      "1    0.508001\n",
      "0    0.491999\n",
      "Name: Exited, dtype: float64\n"
     ]
    },
    {
     "data": {
      "text/plain": [
       "<AxesSubplot:>"
      ]
     },
     "execution_count": 20,
     "metadata": {},
     "output_type": "execute_result"
    },
    {
     "data": {
      "image/png": "[encoded data removed]",
      "text/plain": [
       "<Figure size 432x288 with 1 Axes>"
      ]
     },
     "metadata": {
      "needs_background": "light"
     },
     "output_type": "display_data"
    }
   ],
   "source": [
    "features_zeros = features_train[target_train == 0]\n",
    "features_ones = features_train[target_train == 1]\n",
    "target_zeros = target_train[target_train == 0]\n",
    "target_ones = target_train[target_train == 1]\n",
    "\n",
    "repeat = 4\n",
    "features_train = pd.concat([features_zeros] + [features_ones] * repeat)\n",
    "target_train = pd.concat([target_zeros] + [target_ones] * repeat)\n",
    "\n",
    "shuffle(features_train, random_state=12345)\n",
    "shuffle(target_train, random_state=12345)\n",
    "\n",
    "print(features_train[target_train == 0].shape)\n",
    "print(features_train[target_train == 1].shape)\n",
    "\n",
    "class_frequency = target_train.value_counts(normalize=True)\n",
    "print(class_frequency)\n",
    "class_frequency.plot(kind='bar')"
   ]
  },
  {
   "cell_type": "markdown",
   "metadata": {},
   "source": [
    "Scale features"
   ]
  },
  {
   "cell_type": "code",
   "execution_count": 21,
   "metadata": {},
   "outputs": [
    {
     "name": "stderr",
     "output_type": "stream",
     "text": [
      "C:\\ProgramData\\Anaconda3\\lib\\site-packages\\pandas\\core\\indexing.py:1736: SettingWithCopyWarning: \n",
      "A value is trying to be set on a copy of a slice from a DataFrame.\n",
      "Try using .loc[row_indexer,col_indexer] = value instead\n",
      "\n",
      "See the caveats in the documentation: https://pandas.pydata.org/pandas-docs/stable/user_guide/indexing.html#returning-a-view-versus-a-copy\n",
      "  isetter(loc, value[:, i].tolist())\n"
     ]
    }
   ],
   "source": [
    "numeric = ['CreditScore', 'Age', 'Tenure', 'Balance', 'NumOfProducts', 'HasCrCard', 'IsActiveMember', 'EstimatedSalary']\n",
    "\n",
    "scaler = StandardScaler()\n",
    "scaler.fit(features_train.loc[:, numeric])\n",
    "features_train.loc[:, numeric] = scaler.transform(features_train.loc[:, numeric])\n",
    "features_valid.loc[:, numeric] = scaler.transform(features_valid.loc[:, numeric])\n",
    "features_test.loc[:, numeric] = scaler.transform(features_test.loc[:, numeric])"
   ]
  },
  {
   "cell_type": "markdown",
   "metadata": {},
   "source": [
    "## Model: decision tree"
   ]
  },
  {
   "cell_type": "code",
   "execution_count": 22,
   "metadata": {
    "scrolled": true
   },
   "outputs": [
    {
     "name": "stdout",
     "output_type": "stream",
     "text": [
      "max_depth = 1\n",
      "F1: 0.4892412231030578\n",
      "\n",
      "max_depth = 2\n",
      "F1: 0.5187637969094923\n",
      "\n",
      "max_depth = 3\n",
      "F1: 0.5353418308227114\n",
      "\n",
      "max_depth = 4\n",
      "F1: 0.4873524451939291\n",
      "\n",
      "max_depth = 5\n",
      "F1: 0.5430463576158941\n",
      "\n",
      "max_depth = 6\n",
      "F1: 0.5741728922091781\n",
      "\n",
      "max_depth = 7\n",
      "F1: 0.5528134254689042\n",
      "\n",
      "max_depth = 8\n",
      "F1: 0.5313432835820896\n",
      "\n",
      "max_depth = 9\n",
      "F1: 0.5340206185567011\n",
      "\n",
      "max_depth = 10\n",
      "F1: 0.5330444203683641\n",
      "\n",
      "max_depth = 11\n",
      "F1: 0.5137816979051819\n",
      "\n"
     ]
    }
   ],
   "source": [
    "for depth in range(1, 12):\n",
    "    \n",
    "    model_dec_tree = DecisionTreeClassifier(random_state=12345, max_depth=depth) \n",
    "    model_dec_tree.fit(features_train, target_train)\n",
    "    predicted_valid = model_dec_tree.predict(features_valid)\n",
    "    \n",
    "    print('max_depth =', depth)\n",
    "    print(\"F1:\", f1_score(target_valid, predicted_valid))\n",
    "    print()"
   ]
  },
  {
   "cell_type": "markdown",
   "metadata": {},
   "source": [
    "Retrain the model with better parameters"
   ]
  },
  {
   "cell_type": "code",
   "execution_count": 23,
   "metadata": {},
   "outputs": [
    {
     "data": {
      "text/plain": [
       "DecisionTreeClassifier(max_depth=6, random_state=12345)"
      ]
     },
     "execution_count": 23,
     "metadata": {},
     "output_type": "execute_result"
    }
   ],
   "source": [
    "model_dec_tree = DecisionTreeClassifier(random_state=12345, max_depth=6) \n",
    "model_dec_tree.fit(features_train, target_train)"
   ]
  },
  {
   "cell_type": "markdown",
   "metadata": {},
   "source": [
    "## Model: random forest"
   ]
  },
  {
   "cell_type": "code",
   "execution_count": 24,
   "metadata": {
    "scrolled": true
   },
   "outputs": [
    {
     "name": "stdout",
     "output_type": "stream",
     "text": [
      "n_estimators = 10\n",
      "F1: 0.5977011494252873\n",
      "\n",
      "n_estimators = 15\n",
      "F1: 0.6025492468134415\n",
      "\n",
      "n_estimators = 20\n",
      "F1: 0.6037296037296037\n",
      "\n",
      "n_estimators = 25\n",
      "F1: 0.6034682080924856\n",
      "\n",
      "n_estimators = 30\n",
      "F1: 0.608294930875576\n",
      "\n",
      "n_estimators = 35\n",
      "F1: 0.6047565118912799\n",
      "\n",
      "n_estimators = 40\n",
      "F1: 0.6031746031746031\n",
      "\n",
      "n_estimators = 45\n",
      "F1: 0.6073059360730594\n",
      "\n",
      "n_estimators = 50\n",
      "F1: 0.6038592508513053\n",
      "\n",
      "n_estimators = 55\n",
      "F1: 0.6059225512528473\n",
      "\n",
      "n_estimators = 60\n",
      "F1: 0.6056497175141243\n",
      "\n",
      "n_estimators = 65\n",
      "F1: 0.6052332195676906\n",
      "\n",
      "n_estimators = 70\n",
      "F1: 0.6036446469248292\n",
      "\n",
      "n_estimators = 75\n",
      "F1: 0.6075085324232082\n",
      "\n",
      "n_estimators = 80\n",
      "F1: 0.6045454545454545\n",
      "\n",
      "n_estimators = 85\n",
      "F1: 0.609286523216308\n",
      "\n",
      "n_estimators = 90\n",
      "F1: 0.6085972850678734\n",
      "\n",
      "n_estimators = 95\n",
      "F1: 0.6122448979591836\n",
      "\n",
      "n_estimators = 100\n",
      "F1: 0.609286523216308\n",
      "\n"
     ]
    }
   ],
   "source": [
    "for est in range(10, 102, 5):\n",
    "    \n",
    "    model_ran_forest = RandomForestClassifier(random_state=12345, n_estimators=est, max_depth=6)\n",
    "    model_ran_forest.fit(features_train, target_train)\n",
    "    predicted_valid = model_ran_forest.predict(features_valid)\n",
    "    \n",
    "    print('n_estimators =', est)\n",
    "    print(\"F1:\", f1_score(target_valid, predicted_valid))\n",
    "    print()"
   ]
  },
  {
   "cell_type": "markdown",
   "metadata": {},
   "source": [
    "Retrain the model with better parameters"
   ]
  },
  {
   "cell_type": "code",
   "execution_count": 25,
   "metadata": {},
   "outputs": [
    {
     "data": {
      "text/plain": [
       "RandomForestClassifier(max_depth=6, n_estimators=95, random_state=12345)"
      ]
     },
     "execution_count": 25,
     "metadata": {},
     "output_type": "execute_result"
    }
   ],
   "source": [
    "model_ran_forest = RandomForestClassifier(random_state=12345, n_estimators=95, max_depth=6)\n",
    "model_ran_forest.fit(features_train, target_train) "
   ]
  },
  {
   "cell_type": "markdown",
   "metadata": {},
   "source": [
    "## Model: logistic regression"
   ]
  },
  {
   "cell_type": "code",
   "execution_count": 26,
   "metadata": {},
   "outputs": [
    {
     "name": "stdout",
     "output_type": "stream",
     "text": [
      "F1: 0.5090562440419447\n"
     ]
    }
   ],
   "source": [
    "model_log_reg = LogisticRegression(random_state=12345, solver='liblinear')\n",
    "model_log_reg.fit(features_train, target_train)\n",
    "predicted_valid = model_log_reg.predict(features_valid)\n",
    "result = model_log_reg.score(features_valid, target_valid)\n",
    "\n",
    "print(\"F1:\", f1_score(target_valid, predicted_valid))"
   ]
  },
  {
   "cell_type": "markdown",
   "metadata": {},
   "source": [
    "## Checking models on a test set"
   ]
  },
  {
   "cell_type": "code",
   "execution_count": 27,
   "metadata": {},
   "outputs": [
    {
     "name": "stdout",
     "output_type": "stream",
     "text": [
      "Модель решающего дерева на тестовой выборке выборке:\n",
      "F1: 0.5548523206751055\n",
      "auc_roc: 0.8135151816224842\n",
      "\n",
      "Модель случайного леса на тестовой выборке выборке:\n",
      "F1: 0.5903890160183066\n",
      "auc_roc: 0.8497907540381459\n",
      "\n",
      "Модель логистической регрессии на тестовой выборке выборке:\n",
      "F1: 0.4956605593056895\n",
      "auc_roc: 0.7748329043038432\n",
      "\n"
     ]
    }
   ],
   "source": [
    "predicted_test = model_dec_tree.predict(features_test)\n",
    "\n",
    "print(\"Decision tree model on the test sample:\")\n",
    "print(\"F1:\", f1_score(target_test, predicted_test))\n",
    "\n",
    "probabilities_test = model_dec_tree.predict_proba(features_test)\n",
    "probabilities_one_test = probabilities_test[:, 1]\n",
    "fpr_tree, tpr_tree, thresholds_tree = roc_curve(target_test, probabilities_one_test) \n",
    "print('auc_roc:', roc_auc_score(target_test, probabilities_one_test))\n",
    "\n",
    "print()\n",
    "#//\n",
    "#//\n",
    "predicted_test = model_ran_forest.predict(features_test)\n",
    "\n",
    "print(\"Random forest model on a test sample:\")\n",
    "print(\"F1:\", f1_score(target_test, predicted_test))\n",
    "\n",
    "probabilities_test = model_ran_forest.predict_proba(features_test)\n",
    "probabilities_one_test = probabilities_test[:, 1]\n",
    "fpr_for, tpr_for, thresholds_for = roc_curve(target_test, probabilities_one_test) \n",
    "print('auc_roc:', roc_auc_score(target_test, probabilities_one_test))\n",
    "\n",
    "print()\n",
    "#//\n",
    "#//\n",
    "predicted_test = model_log_reg.predict(features_test)\n",
    "\n",
    "print(\"Logistic regression model on a test sample:\")\n",
    "print(\"F1:\", f1_score(target_test, predicted_test))\n",
    "\n",
    "probabilities_test = model_log_reg.predict_proba(features_test)\n",
    "probabilities_one_test = probabilities_test[:, 1]\n",
    "fpr_reg, tpr_reg, thresholds_reg = roc_curve(target_test, probabilities_one_test) \n",
    "print('auc_roc:', roc_auc_score(target_test, probabilities_one_test))\n",
    "\n",
    "print()"
   ]
  },
  {
   "cell_type": "markdown",
   "metadata": {},
   "source": [
    "Let's build the ROC curves of the models and the ROC curve of the random model"
   ]
  },
  {
   "cell_type": "code",
   "execution_count": 28,
   "metadata": {},
   "outputs": [
    {
     "data": {
      "image/png": "[encoded data removed]",
      "text/plain": [
       "<Figure size 1080x1080 with 1 Axes>"
      ]
     },
     "metadata": {
      "needs_background": "light"
     },
     "output_type": "display_data"
    }
   ],
   "source": [
    "plt.figure(figsize=(15,15))\n",
    "\n",
    "plt.plot(fpr_tree, tpr_tree, label='Tree')\n",
    "plt.plot(fpr_for, tpr_for, label='Forest')\n",
    "plt.plot(fpr_reg, tpr_reg, label='Log_regression')\n",
    "\n",
    "# ROC-кривая случайной модели\n",
    "plt.plot([0, 1], [0, 1], linestyle='--')\n",
    "\n",
    "# установимграницы осей от 0 до 1 >\n",
    "plt.xlim([0,1])\n",
    "plt.ylim([0,1])\n",
    "\n",
    "# подпишем оси \"False Positive Rate\" и \"True Positive Rate\" >\n",
    "plt.xlabel('False Positive Rate')\n",
    "plt.ylabel('True Positive Rate')\n",
    "\n",
    "# добавим заголовок \"ROC-кривая\" функцией plt.title() >\n",
    "plt.title('ROC-curve')\n",
    "\n",
    "# добавим легенду\n",
    "legend = plt.legend(loc='lower right', shadow=False, fontsize='x-large')\n",
    "\n",
    "plt.show()"
   ]
  },
  {
   "cell_type": "markdown",
   "metadata": {},
   "source": [
    "Output: <br />\n",
    "<br />\n",
    "The random forest has the best F1 measure, as does the area under the curve. <br />\n",
    "Not much, but the decision tree lags behind. <br />\n",
    "Logistic regression shows the worst results."
   ]
  },
  {
   "cell_type": "code",
   "execution_count": null,
   "metadata": {},
   "outputs": [],
   "source": []
  }
 ],
 "metadata": {
  "kernelspec": {
   "display_name": "Python 3",
   "language": "python",
   "name": "python3"
  },
  "language_info": {
   "codemirror_mode": {
    "name": "ipython",
    "version": 3
   },
   "file_extension": ".py",
   "mimetype": "text/x-python",
   "name": "python",
   "nbconvert_exporter": "python",
   "pygments_lexer": "ipython3",
   "version": "3.8.8"
  },
  "toc": {
   "base_numbering": 1,
   "nav_menu": {},
   "number_sections": true,
   "sideBar": true,
   "skip_h1_title": false,
   "title_cell": "Table of Contents",
   "title_sidebar": "Contents",
   "toc_cell": false,
   "toc_position": {},
   "toc_section_display": true,
   "toc_window_display": true
  },
  "varInspector": {
   "cols": {
    "lenName": 16,
    "lenType": 16,
    "lenVar": 40
   },
   "kernels_config": {
    "python": {
     "delete_cmd_postfix": "",
     "delete_cmd_prefix": "del ",
     "library": "var_list.py",
     "varRefreshCmd": "print(var_dic_list())"
    },
    "r": {
     "delete_cmd_postfix": ") ",
     "delete_cmd_prefix": "rm(",
     "library": "var_list.r",
     "varRefreshCmd": "cat(var_dic_list()) "
    }
   },
   "types_to_exclude": [
    "module",
    "function",
    "builtin_function_or_method",
    "instance",
    "_Feature"
   ],
   "window_display": false
  }
 },
 "nbformat": 4,
 "nbformat_minor": 4
}

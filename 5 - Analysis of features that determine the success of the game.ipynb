{
 "cells": [
  {
   "cell_type": "markdown",
   "metadata": {},
   "source": [
    "# Project Description"
   ]
  },
  {
   "cell_type": "markdown",
   "metadata": {},
   "source": [
    "Historical game sales data, user and expert ratings, genres and platforms (such as Xbox or PlayStation) are available from public sources. You need to identify the patterns that determine the success of the game. This will allow you to bid on a potentially popular product and plan advertising campaigns. <br />\n",
    "<br />\n",
    "Data available up to 2016. Let's say it's December 2016 and we're planning a campaign for 2017. It is necessary to work out the principle of working with data. It doesn’t matter if sales are forecast for 2017 based on 2016 data or 2027 based on 2026 data. <br />\n",
    "<br />\n",
    "The abbreviation ESRB (Entertainment Software Rating Board) comes across in the data set - this is an association that determines the age rating of computer games. The ESRB evaluates game content and assigns it to an appropriate age rating, such as Mature, Toddler, or Teen."
   ]
  },
  {
   "cell_type": "markdown",
   "metadata": {},
   "source": [
    "# Data Description"
   ]
  },
  {
   "cell_type": "markdown",
   "metadata": {},
   "source": [
    "- Name - the name of the game\n",
    "- Platform - platform\n",
    "- Year_of_Release - year of release\n",
    "- Genre - game genre\n",
    "- NA_sales - sales in North America (millions of copies sold)\n",
    "- EU_sales - sales in Europe (millions of copies sold)\n",
    "- JP_sales - sales in Japan (millions of copies sold)\n",
    "- Other_sales - sales in other countries (millions of copies sold)\n",
    "- Critic_Score - Critics score (maximum 100)\n",
    "- User_Score - user rating (maximum 10)\n",
    "- Rating — rating from the ESRB (Entertainment Software Rating Board). This association determines the rating of computer games and assigns them an appropriate age category.\n",
    "<br />\n",
    "<br />\n",
    "Data for 2016 may not be complete."
   ]
  },
  {
   "cell_type": "markdown",
   "metadata": {},
   "source": [
    "# Import data files, study general information"
   ]
  },
  {
   "cell_type": "code",
   "execution_count": null,
   "metadata": {},
   "outputs": [],
   "source": [
    "import pandas as pd\n",
    "import numpy as np\n",
    "import math\n",
    "import matplotlib.pyplot as plt\n",
    "from scipy import stats as st\n",
    "from IPython.display import display\n",
    "\n",
    "\n",
    "pd.set_option('display.max_rows', 1000)\n",
    "pd.set_option('display.max_columns', 1000)"
   ]
  },
  {
   "cell_type": "code",
   "execution_count": null,
   "metadata": {},
   "outputs": [],
   "source": [
    "# Let's define a function for printing a dataset and information about it\n",
    "\n",
    "def print_df(table):\n",
    "    \n",
    "    display(table)\n",
    "    print()\n",
    "    table.info()"
   ]
  },
  {
   "cell_type": "code",
   "execution_count": null,
   "metadata": {
    "scrolled": true
   },
   "outputs": [],
   "source": [
    "#df = pd.read_csv('C:/Users/KDG/Google Drive/data science/5 Сборный проект 1/games.csv', sep=',')\n",
    "df = pd.read_csv('/datasets/games.csv', sep=',')\n",
    "print_df(df)"
   ]
  },
  {
   "cell_type": "markdown",
   "metadata": {},
   "source": [
    "# Data preparation"
   ]
  },
  {
   "cell_type": "code",
   "execution_count": null,
   "metadata": {},
   "outputs": [],
   "source": [
    "# Let's convert the column names to lowercase\n",
    "\n",
    "name_columns = df.columns.tolist()\n",
    "for name in name_columns:\n",
    "    \n",
    "    name_low = name.lower()\n",
    "    df = df.rename(columns={name:name_low})\n",
    "    \n",
    "df.info()"
   ]
  },
  {
   "cell_type": "markdown",
   "metadata": {},
   "source": [
    "## Change column data types to more appropriate ones and fill in gaps"
   ]
  },
  {
   "cell_type": "markdown",
   "metadata": {},
   "source": [
    "### name"
   ]
  },
  {
   "cell_type": "code",
   "execution_count": null,
   "metadata": {
    "scrolled": true
   },
   "outputs": [],
   "source": [
    "print(df['name'].value_counts().sort_index(ascending=True).head(1000))\n",
    "print(df['name'].sort_values(ascending=False).unique())"
   ]
  },
  {
   "cell_type": "code",
   "execution_count": null,
   "metadata": {},
   "outputs": [],
   "source": [
    "print_df(df[df['name'].isna() == True])"
   ]
  },
  {
   "cell_type": "code",
   "execution_count": null,
   "metadata": {},
   "outputs": [],
   "source": [
    "# The lines are almost completely empty, we will not be able to extract any information from them. Let's delete them\n",
    "\n",
    "index = df[df['name'].isna() == True].index\n",
    "df = df.drop(index).reset_index(drop=True)\n",
    "df.info()"
   ]
  },
  {
   "cell_type": "markdown",
   "metadata": {},
   "source": [
    "### platform"
   ]
  },
  {
   "cell_type": "code",
   "execution_count": null,
   "metadata": {
    "scrolled": true
   },
   "outputs": [],
   "source": [
    "print(df['platform'].value_counts().sort_index(ascending=True).head(1000))\n",
    "print(df['platform'].sort_values(ascending=False).unique())\n",
    "print(df.info())"
   ]
  },
  {
   "cell_type": "markdown",
   "metadata": {},
   "source": [
    "### year_of_release"
   ]
  },
  {
   "cell_type": "code",
   "execution_count": null,
   "metadata": {
    "scrolled": true
   },
   "outputs": [],
   "source": [
    "print(df['year_of_release'].value_counts().sort_index(ascending=True).head(1000))\n",
    "print(df['year_of_release'].sort_values(ascending=False).unique())"
   ]
  },
  {
   "cell_type": "code",
   "execution_count": null,
   "metadata": {
    "scrolled": true
   },
   "outputs": [],
   "source": [
    "print_df(df[df['year_of_release'].isna() == True])"
   ]
  },
  {
   "cell_type": "code",
   "execution_count": null,
   "metadata": {},
   "outputs": [],
   "source": [
    "# Some release years can be extracted from the title and other sources. But in this case, there are 269 of them, which is less than 2% of the entire set,\n",
    "# so they can be removed\n",
    "\n",
    "index = df[df['year_of_release'].isna() == True].index\n",
    "df = df.drop(index).reset_index(drop=True)\n",
    "df.info()"
   ]
  },
  {
   "cell_type": "code",
   "execution_count": null,
   "metadata": {},
   "outputs": [],
   "source": [
    "# Assign values to type `int64`\n",
    "\n",
    "df['year_of_release'] = df['year_of_release'].astype('int64')\n",
    "df.info()"
   ]
  },
  {
   "cell_type": "markdown",
   "metadata": {},
   "source": [
    "### genre"
   ]
  },
  {
   "cell_type": "code",
   "execution_count": null,
   "metadata": {
    "scrolled": true
   },
   "outputs": [],
   "source": [
    "print(df['genre'].value_counts().sort_index(ascending=True).head(1000))\n",
    "print(df['genre'].sort_values(ascending=False).unique())\n",
    "df.info()"
   ]
  },
  {
   "cell_type": "markdown",
   "metadata": {},
   "source": [
    "### na_sales"
   ]
  },
  {
   "cell_type": "code",
   "execution_count": null,
   "metadata": {
    "scrolled": true
   },
   "outputs": [],
   "source": [
    "print(df['na_sales'].value_counts().sort_index(ascending=True).head(1000))\n",
    "print(df['na_sales'].sort_values(ascending=False).unique())\n",
    "df.info()"
   ]
  },
  {
   "cell_type": "markdown",
   "metadata": {},
   "source": [
    "### eu_sales"
   ]
  },
  {
   "cell_type": "code",
   "execution_count": null,
   "metadata": {
    "scrolled": true
   },
   "outputs": [],
   "source": [
    "print(df['eu_sales'].value_counts().sort_index(ascending=True).head(1000))\n",
    "print(df['eu_sales'].sort_values(ascending=False).unique())\n",
    "df.info()"
   ]
  },
  {
   "cell_type": "markdown",
   "metadata": {},
   "source": [
    "### jp_sales"
   ]
  },
  {
   "cell_type": "code",
   "execution_count": null,
   "metadata": {
    "scrolled": true
   },
   "outputs": [],
   "source": [
    "print(df['jp_sales'].value_counts().sort_index(ascending=True).head(1000))\n",
    "print(df['jp_sales'].sort_values(ascending=False).unique())\n",
    "df.info()"
   ]
  },
  {
   "cell_type": "markdown",
   "metadata": {},
   "source": [
    "### other_sales"
   ]
  },
  {
   "cell_type": "code",
   "execution_count": null,
   "metadata": {
    "scrolled": true
   },
   "outputs": [],
   "source": [
    "print(df['other_sales'].value_counts().sort_index(ascending=True).head(1000))\n",
    "print(df['other_sales'].sort_values(ascending=False).unique())\n",
    "df.info()"
   ]
  },
  {
   "cell_type": "markdown",
   "metadata": {},
   "source": [
    "### critic_score"
   ]
  },
  {
   "cell_type": "code",
   "execution_count": null,
   "metadata": {
    "scrolled": true
   },
   "outputs": [],
   "source": [
    "print(df['critic_score'].value_counts().sort_index(ascending=True).head(1000))\n",
    "print(df['critic_score'].sort_values(ascending=False).unique())"
   ]
  },
  {
   "cell_type": "code",
   "execution_count": null,
   "metadata": {},
   "outputs": [],
   "source": [
    "print_df(df[df['critic_score'].isna() == True])"
   ]
  },
  {
   "cell_type": "code",
   "execution_count": null,
   "metadata": {},
   "outputs": [],
   "source": [
    "# Let's fill in the critics' rating by the year of release and the genre of the game. Those games that are the only ones by year and genre will be filled with the value \"False\"\n",
    "\n",
    "for year in df['year_of_release'].unique():\n",
    "    for genre in df['genre'].unique():\n",
    "        \n",
    "        count_critic_score = df.loc[(df['genre'] == genre) & (df['year_of_release'] == year), 'critic_score'].count()\n",
    "        \n",
    "        if count_critic_score > 0:\n",
    "            \n",
    "            median_critic_score = df.loc[(df['genre'] == genre) & (df['year_of_release'] == year), 'critic_score'].median()\n",
    "            df.loc[(df['genre'] == genre) & (df['year_of_release'] == year), 'critic_score'] =\\\n",
    "                df.loc[(df['genre'] == genre) & (df['year_of_release'] == year)].fillna(median_critic_score)\n",
    "        else:\n",
    "            \n",
    "            median_critic_score = False\n",
    "            df.loc[(df['genre'] == genre) & (df['year_of_release'] == year), 'critic_score'] =\\\n",
    "                df.loc[(df['genre'] == genre) & (df['year_of_release'] == year)].fillna(median_critic_score)"
   ]
  },
  {
   "cell_type": "code",
   "execution_count": null,
   "metadata": {},
   "outputs": [],
   "source": [
    "# Number of \"False\" values\n",
    "\n",
    "df.query('critic_score == False').count()"
   ]
  },
  {
   "cell_type": "code",
   "execution_count": null,
   "metadata": {},
   "outputs": [],
   "source": [
    "# Almost all \"False\" of this column, along with no critics rating, no user rating,\n",
    "# and rating. Considering that there are 931 of them - this is less than 6% of both the initial and this dataset, these lines can be deleted\n",
    "\n",
    "index = df[df['critic_score'] == False].index\n",
    "df = df.drop(index).reset_index(drop=True)\n",
    "df.info()"
   ]
  },
  {
   "cell_type": "code",
   "execution_count": null,
   "metadata": {},
   "outputs": [],
   "source": [
    "# Assign values to type `int64`\n",
    "\n",
    "df['critic_score'] = df['critic_score'].apply(np.ceil).astype('int64')\n",
    "df.info()"
   ]
  },
  {
   "cell_type": "markdown",
   "metadata": {},
   "source": [
    "### user_score"
   ]
  },
  {
   "cell_type": "code",
   "execution_count": null,
   "metadata": {
    "scrolled": true
   },
   "outputs": [],
   "source": [
    "print(df['user_score'].value_counts().sort_index(ascending=True).head(1000))\n",
    "print(df['user_score'].sort_values(ascending=False).unique())"
   ]
  },
  {
   "cell_type": "code",
   "execution_count": null,
   "metadata": {
    "scrolled": true
   },
   "outputs": [],
   "source": [
    "# 'tbd' - apparently to be determined, which means \"to be determined\". Those. evaluation will be posted later\n",
    "\n",
    "print_df(df[df['user_score'] == 'tbd'].head(1000))"
   ]
  },
  {
   "cell_type": "code",
   "execution_count": null,
   "metadata": {},
   "outputs": [],
   "source": [
    "# Replace the 'tbd' values with \"NaN\", which will make it possible to calculate the median or average by year and game genre\n",
    "\n",
    "df.loc[df['user_score'] == 'tbd', 'user_score'] = None\n",
    "print(df['user_score'].sort_values(ascending=False).unique())"
   ]
  },
  {
   "cell_type": "code",
   "execution_count": null,
   "metadata": {},
   "outputs": [],
   "source": [
    "# Fill in the user rating by year of release and genre of the game. Those games that are the only ones by year and genre will be filled with the value \"False\"\n",
    "\n",
    "for year in df['year_of_release'].unique():\n",
    "    for genre in df['genre'].unique():\n",
    "        \n",
    "        count_user_score = df.loc[(df['genre'] == genre) & (df['year_of_release'] == year), 'user_score'].count()\n",
    "        \n",
    "        if count_user_score > 0:\n",
    "            \n",
    "            median_user_score = df.loc[(df['genre'] == genre) & (df['year_of_release'] == year), 'user_score'].median()\n",
    "            df.loc[(df['genre'] == genre) & (df['year_of_release'] == year), 'user_score'] =\\\n",
    "                df.loc[(df['genre'] == genre) & (df['year_of_release'] == year)].fillna(median_user_score)\n",
    "        else:\n",
    "            \n",
    "            median_user_score = False\n",
    "            df.loc[(df['genre'] == genre) & (df['year_of_release'] == year), 'user_score'] =\\\n",
    "                df.loc[(df['genre'] == genre) & (df['year_of_release'] == year)].fillna(median_user_score)"
   ]
  },
  {
   "cell_type": "code",
   "execution_count": null,
   "metadata": {},
   "outputs": [],
   "source": [
    "# Number of \"False\" values\n",
    "\n",
    "df[df['user_score'] == False].count()"
   ]
  },
  {
   "cell_type": "code",
   "execution_count": null,
   "metadata": {},
   "outputs": [],
   "source": [
    "# \"False\" values 38, which means that they can be deleted, since about 93% of the initial dataset will remain\n",
    "\n",
    "index = df[df['user_score'] == False].index\n",
    "df = df.drop(index).reset_index(drop=True)\n",
    "df.info()"
   ]
  },
  {
   "cell_type": "code",
   "execution_count": null,
   "metadata": {},
   "outputs": [],
   "source": [
    "# Assign values to type `float64`\n",
    "\n",
    "df['user_score'] = df['user_score'].astype('float64')\n",
    "df.info()"
   ]
  },
  {
   "cell_type": "markdown",
   "metadata": {},
   "source": [
    "### rating "
   ]
  },
  {
   "cell_type": "code",
   "execution_count": null,
   "metadata": {
    "scrolled": true
   },
   "outputs": [],
   "source": [
    "print(df['rating'].value_counts().sort_index(ascending=True).head(1000))\n",
    "print(df['rating'].sort_values(ascending=False).unique())"
   ]
  },
  {
   "cell_type": "code",
   "execution_count": null,
   "metadata": {},
   "outputs": [],
   "source": [
    "print_df(df[df['rating'].isna() == True])"
   ]
  },
  {
   "cell_type": "code",
   "execution_count": null,
   "metadata": {},
   "outputs": [],
   "source": [
    "# \"NaN\" values can be left, since in this situation they cannot be filled or deleted in any way"
   ]
  },
  {
   "cell_type": "markdown",
   "metadata": {},
   "source": [
    "## Calculation of total sales in all regions"
   ]
  },
  {
   "cell_type": "code",
   "execution_count": null,
   "metadata": {},
   "outputs": [],
   "source": [
    "df['sum_sales'] = df['na_sales'] + df['eu_sales'] + df['jp_sales'] + df['other_sales']\n",
    "df.info()"
   ]
  },
  {
   "cell_type": "markdown",
   "metadata": {},
   "source": [
    "# Exploratory data analysis"
   ]
  },
  {
   "cell_type": "markdown",
   "metadata": {},
   "source": [
    "## Calculation of the current period"
   ]
  },
  {
   "cell_type": "code",
   "execution_count": null,
   "metadata": {},
   "outputs": [],
   "source": [
    "# Number of released games by year\n",
    "\n",
    "df.groupby('year_of_release')['year_of_release'].count()"
   ]
  },
  {
   "cell_type": "code",
   "execution_count": null,
   "metadata": {
    "scrolled": true
   },
   "outputs": [],
   "source": [
    "# Let's build a summary table of the amount of sales by platform and by year\n",
    "\n",
    "table = df.pivot_table(index=['platform', 'year_of_release'], values=['sum_sales'], aggfunc='sum').reset_index()"
   ]
  },
  {
   "cell_type": "code",
   "execution_count": null,
   "metadata": {
    "scrolled": true
   },
   "outputs": [],
   "source": [
    "# We will select the top 5 platforms by the amount of sales\n",
    "\n",
    "top_table = df.pivot_table(index=['platform'], values=['sum_sales'], aggfunc='sum').reset_index().sort_values(by = 'sum_sales', ascending=False).head(5)\n",
    "top_list = top_table['platform'].tolist()"
   ]
  },
  {
   "cell_type": "code",
   "execution_count": null,
   "metadata": {
    "scrolled": true
   },
   "outputs": [],
   "source": [
    "# Let's build charts of the top 5 platforms by year. We also calculate the lifetime of each platform\n",
    "\n",
    "time_in_year = [] # lifetime of each platform in years\n",
    "\n",
    "for name_platform in top_list:\n",
    "    \n",
    "    plot_table = table.query('platform == @name_platform')\n",
    "    plot_table.plot(x='year_of_release', y='sum_sales', kind='bar', title=name_platform)\n",
    "    plt.show()\n",
    "    print('Sales start year:', plot_table['year_of_release'].min())\n",
    "    print('Sales end year:', plot_table['year_of_release'].max())\n",
    "    time_in_year.append(plot_table['year_of_release'].max() - plot_table['year_of_release'].min())\n",
    "    print()\n",
    "    \n",
    "print('Median number of years of existence:', np.median(time_in_year))    "
   ]
  },
  {
   "cell_type": "markdown",
   "metadata": {},
   "source": [
    "<code style=\"background:black;color:violet\">So the current period is **2007 to 2016** </code>"
   ]
  },
  {
   "cell_type": "markdown",
   "metadata": {},
   "source": [
    "## Exploring gaming platforms"
   ]
  },
  {
   "cell_type": "code",
   "execution_count": null,
   "metadata": {},
   "outputs": [],
   "source": [
    "# Get a table with the current period\n",
    "\n",
    "table_actual = table.query('year_of_release >= 2007')"
   ]
  },
  {
   "cell_type": "code",
   "execution_count": null,
   "metadata": {
    "scrolled": true
   },
   "outputs": [],
   "source": [
    "# Explore platforms with charts\n",
    "\n",
    "ax = plt.show()\n",
    "\n",
    "for name_platform in table_actual['platform'].unique():  \n",
    "\n",
    "    plot_table = table_actual.query('platform == @name_platform')\n",
    "    ax = plot_table.plot(x='year_of_release', y='sum_sales', kind='line', ax = ax, label=name_platform, figsize=(15,15), grid=True, xlim = (2007, 2016))   "
   ]
  },
  {
   "cell_type": "markdown",
   "metadata": {},
   "source": [
    "<code style=\"background:black;color:violet\">The graph shows that sales are falling, which means a new, more advanced platform should appear soon.\n",
    "But it should also be taken into account that the data for 2016 is incomplete.</code>"
   ]
  },
  {
   "cell_type": "code",
   "execution_count": null,
   "metadata": {
    "scrolled": false
   },
   "outputs": [],
   "source": [
    "# Rebuild \"table_actual\" so that platform names become columns\n",
    "\n",
    "table_actual_for_boxplot = table_actual.pivot_table(index=['year_of_release'], columns=['platform'], values='sum_sales', aggfunc='first')\n",
    "columns_for_boxplot = table_actual_for_boxplot.columns.tolist()\n",
    "\n",
    "# Plot a box and whisker plot of global game sales by platform\n",
    "\n",
    "table_actual_for_boxplot.boxplot(column=columns_for_boxplot, figsize=(15,15), grid=True)\n",
    "\n",
    "# Plot builds but gives a type error, probably due to the fact that I pass the \"columns_for_boxplot\" variable as list\",\n",
    "# although I tried to convert to an array, but then it does not work at all"
   ]
  },
  {
   "cell_type": "markdown",
   "metadata": {},
   "source": [
    "<code style=\"background:black;color:violet\">The spread of sales across platforms is quite large.\n",
    "Choosing the right platform does not guarantee sales success, but it can help.</code>"
   ]
  },
  {
   "cell_type": "markdown",
   "metadata": {},
   "source": [
    "## Dependence of global sales on the evaluation of critics and users"
   ]
  },
  {
   "cell_type": "code",
   "execution_count": null,
   "metadata": {},
   "outputs": [],
   "source": [
    "# Get a table with the current period. Let's take \"PS4\" as the platform of consideration,\n",
    "# because for 2016 it is the most popular\n",
    "\n",
    "df_actual_PS4 = df.query('year_of_release >= 2007 and platform == \"PS4\"')"
   ]
  },
  {
   "cell_type": "code",
   "execution_count": null,
   "metadata": {
    "scrolled": false
   },
   "outputs": [],
   "source": [
    "# Let's see how user reviews and critics affect sales\n",
    "\n",
    "df_actual_PS4.plot(x='critic_score', y='sum_sales', kind='scatter', figsize=(5,5), grid=True, xlim = (0, 100), title='critic_score')\n",
    "corr_critic = df_actual_PS4['critic_score'].corr(df_actual_PS4['sum_sales'])\n",
    "plt.show()\n",
    "print('Correlation between critical score and global sales:', corr_critic)\n",
    "print()\n",
    "\n",
    "\n",
    "df_actual_PS4.plot(x='user_score', y='sum_sales', kind='scatter', figsize=(5,5), grid=True, xlim = (0, 10), title='user_score') \n",
    "corr_user = df_actual_PS4['user_score'].corr(df_actual_PS4['sum_sales'])\n",
    "plt.show()\n",
    "print('Correlation between user rating and global sales:', corr_user)"
   ]
  },
  {
   "cell_type": "code",
   "execution_count": null,
   "metadata": {},
   "outputs": [],
   "source": [
    "# Check output also for \"PC\" and \"Xbox One\" platforms\n",
    "\n",
    "# \"PC\"\n",
    "\n",
    "df_actual_PC = df.query('year_of_release >= 2007 and platform == \"PC\"')\n",
    "\n",
    "df_actual_PC.plot(x='critic_score', y='sum_sales', kind='scatter', figsize=(5,5), grid=True, xlim = (0, 100), title='critic_score')\n",
    "corr_critic = df_actual_PC['critic_score'].corr(df_actual_PC['sum_sales'])\n",
    "plt.show()\n",
    "print('Correlation between critical score and global sales:', corr_critic)\n",
    "print()\n",
    "\n",
    "\n",
    "df_actual_PC.plot(x='user_score', y='sum_sales', kind='scatter', figsize=(5,5), grid=True, xlim = (0, 10), title='user_score') \n",
    "corr_user = df_actual_PC['user_score'].corr(df_actual_PC['sum_sales'])\n",
    "plt.show()\n",
    "print('Correlation between user rating and global sales:', corr_user)"
   ]
  },
  {
   "cell_type": "code",
   "execution_count": null,
   "metadata": {},
   "outputs": [],
   "source": [
    "# \"Xbox One\"\n",
    "\n",
    "df_actual_XOne = df.query('year_of_release >= 2007 and platform == \"XOne\"')\n",
    "\n",
    "df_actual_XOne.plot(x='critic_score', y='sum_sales', kind='scatter', figsize=(5,5), grid=True, xlim = (0, 100), title='critic_score')\n",
    "corr_critic = df_actual_XOne['critic_score'].corr(df_actual_XOne['sum_sales'])\n",
    "plt.show()\n",
    "print('Correlation between critical score and global sales:', corr_critic)\n",
    "print()\n",
    "\n",
    "\n",
    "df_actual_XOne.plot(x='user_score', y='sum_sales', kind='scatter', figsize=(5,5), grid=True, xlim = (0, 10), title='user_score') \n",
    "corr_user = df_actual_XOne['user_score'].corr(df_actual_XOne['sum_sales'])\n",
    "plt.show()\n",
    "print('Correlation between user rating and global sales:', corr_user)"
   ]
  },
  {
   "cell_type": "markdown",
   "metadata": {},
   "source": [
    "<code style=\"background:black;color:violet\">Based on the critics' assessment, we can indirectly infer what global sales might be.\n",
    "There is a correlation, but not very strong.</code>"
   ]
  },
  {
   "cell_type": "markdown",
   "metadata": {},
   "source": [
    "## Distribution of profits by genre"
   ]
  },
  {
   "cell_type": "code",
   "execution_count": null,
   "metadata": {},
   "outputs": [],
   "source": [
    "# Get a table with the current period\n",
    "\n",
    "df_actual = df.query('year_of_release >= 2007')\n",
    "\n",
    "# Profitability of games by genre\n",
    "\n",
    "table_actual_genres = df_actual.pivot_table(index='genre', values='sum_sales', aggfunc={'sum', 'count'})\n",
    "table_actual_genres['ratio_sum/count'] = table_actual_genres['sum'] / table_actual_genres['count']\n",
    "display(table_actual_genres.sort_values(by='ratio_sum/count', ascending=False))"
   ]
  },
  {
   "cell_type": "markdown",
   "metadata": {},
   "source": [
    "<code style=\"background:black;color:violet\">The top-grossing genre is **Shooter**, followed by **Platform** and **Sports**.\n",
    "The lowest selling genre is **Adventure**. </code>"
   ]
  },
  {
   "cell_type": "markdown",
   "metadata": {},
   "source": [
    "# User portrait of each region (NA, EU, JP)"
   ]
  },
  {
   "cell_type": "markdown",
   "metadata": {},
   "source": [
    "## NA"
   ]
  },
  {
   "cell_type": "markdown",
   "metadata": {},
   "source": [
    "### Most popular platforms (top 5)"
   ]
  },
  {
   "cell_type": "code",
   "execution_count": null,
   "metadata": {},
   "outputs": [],
   "source": [
    "df_actual_p_t_platform_na = df_actual.pivot_table(index='platform', values='na_sales', aggfunc={'sum'})\n",
    "df_actual_p_t_platform_na['part'] = df_actual_p_t_platform_na['sum'] / df_actual_p_t_platform_na['sum'].sum()\n",
    "print(df_actual_p_t_platform_na.sort_values(by='sum', ascending=False).head(5))"
   ]
  },
  {
   "cell_type": "markdown",
   "metadata": {},
   "source": [
    "### Most popular genres (top 5)"
   ]
  },
  {
   "cell_type": "code",
   "execution_count": null,
   "metadata": {},
   "outputs": [],
   "source": [
    "df_actual_p_t_genre_na = df_actual.pivot_table(index='genre', values='na_sales', aggfunc={'sum'})\n",
    "df_actual_p_t_genre_na['part'] = df_actual_p_t_genre_na['sum'] / df_actual_p_t_genre_na['sum'].sum()\n",
    "print(df_actual_p_t_genre_na.sort_values(by='sum', ascending=False).head(5))"
   ]
  },
  {
   "cell_type": "markdown",
   "metadata": {},
   "source": [
    "### Impact of ESRB rating on sales"
   ]
  },
  {
   "cell_type": "code",
   "execution_count": null,
   "metadata": {},
   "outputs": [],
   "source": [
    "df_actual.pivot_table(index='rating', values='na_sales', aggfunc={'sum'}).sort_values(by='sum', ascending=False)"
   ]
  },
  {
   "cell_type": "markdown",
   "metadata": {},
   "source": [
    "<code style=\"background:black;color:violet\">Based on the critics' assessment, we can indirectly infer what global sales might be.\n",
    "There is a correlation, but not very strong.</code>"
   ]
  },
  {
   "cell_type": "markdown",
   "metadata": {},
   "source": [
    "## EU"
   ]
  },
  {
   "cell_type": "markdown",
   "metadata": {},
   "source": [
    "### Most popular platforms (top 5)"
   ]
  },
  {
   "cell_type": "code",
   "execution_count": null,
   "metadata": {},
   "outputs": [],
   "source": [
    "df_actual_p_t_platform_eu = df_actual.pivot_table(index='platform', values='eu_sales', aggfunc={'sum'})\n",
    "df_actual_p_t_platform_eu['part'] = df_actual_p_t_platform_eu['sum'] / df_actual_p_t_platform_eu['sum'].sum()\n",
    "print(df_actual_p_t_platform_eu.sort_values(by='sum', ascending=False).head(5))"
   ]
  },
  {
   "cell_type": "markdown",
   "metadata": {},
   "source": [
    "### Most popular genres (top 5)"
   ]
  },
  {
   "cell_type": "code",
   "execution_count": null,
   "metadata": {},
   "outputs": [],
   "source": [
    "df_actual_p_t_genre_eu = df_actual.pivot_table(index='genre', values='eu_sales', aggfunc={'sum'})\n",
    "df_actual_p_t_genre_eu['part'] = df_actual_p_t_genre_eu['sum'] / df_actual_p_t_genre_eu['sum'].sum()\n",
    "print(df_actual_p_t_genre_eu.sort_values(by='sum', ascending=False).head(5))"
   ]
  },
  {
   "cell_type": "markdown",
   "metadata": {},
   "source": [
    "### Impact of ESRB rating on sales"
   ]
  },
  {
   "cell_type": "code",
   "execution_count": null,
   "metadata": {},
   "outputs": [],
   "source": [
    "df_actual.pivot_table(index='rating', values='eu_sales', aggfunc={'sum'}).sort_values(by='sum', ascending=False)"
   ]
  },
  {
   "cell_type": "markdown",
   "metadata": {},
   "source": [
    "<code style=\"background:black;color:violet\">The most commercially successful games in Europe on the platform **Play Station 3**, **Action** genre, rated **E**.</code>"
   ]
  },
  {
   "cell_type": "markdown",
   "metadata": {},
   "source": [
    "## JP"
   ]
  },
  {
   "cell_type": "markdown",
   "metadata": {},
   "source": [
    "### Most popular platforms (top 5)"
   ]
  },
  {
   "cell_type": "code",
   "execution_count": null,
   "metadata": {},
   "outputs": [],
   "source": [
    "df_actual_p_t_platform_jp = df_actual.pivot_table(index='platform', values='jp_sales', aggfunc={'sum'})\n",
    "df_actual_p_t_platform_jp['part'] = df_actual_p_t_platform_jp['sum'] / df_actual_p_t_platform_jp['sum'].sum()\n",
    "print(df_actual_p_t_platform_jp.sort_values(by='sum', ascending=False).head(5))"
   ]
  },
  {
   "cell_type": "markdown",
   "metadata": {},
   "source": [
    "### Most popular genres (top 5)"
   ]
  },
  {
   "cell_type": "code",
   "execution_count": null,
   "metadata": {},
   "outputs": [],
   "source": [
    "df_actual_p_t_genre_jp = df_actual.pivot_table(index='genre', values='jp_sales', aggfunc={'sum'})\n",
    "df_actual_p_t_genre_jp['part'] = df_actual_p_t_genre_jp['sum'] / df_actual_p_t_genre_jp['sum'].sum()\n",
    "print(df_actual_p_t_genre_jp.sort_values(by='sum', ascending=False).head(5))"
   ]
  },
  {
   "cell_type": "markdown",
   "metadata": {},
   "source": [
    "### Impact of ESRB rating on sales"
   ]
  },
  {
   "cell_type": "code",
   "execution_count": null,
   "metadata": {
    "scrolled": true
   },
   "outputs": [],
   "source": [
    "df_actual.pivot_table(index='rating', values='jp_sales', aggfunc={'sum'}).sort_values(by='sum', ascending=False)"
   ]
  },
  {
   "cell_type": "markdown",
   "metadata": {},
   "source": [
    "<code style=\"background:black;color:violet\">Japan's Most Commercially Successful **Nintendo DS** **Role-Playing** Games Rated **E**.</code>"
   ]
  },
  {
   "cell_type": "markdown",
   "metadata": {},
   "source": [
    "# Testing hypotheses"
   ]
  },
  {
   "cell_type": "markdown",
   "metadata": {},
   "source": [
    "## Average user ratings for Xbox One and PC platforms are the same"
   ]
  },
  {
   "cell_type": "markdown",
   "metadata": {},
   "source": [
    "### Null hypothesis"
   ]
  },
  {
   "cell_type": "markdown",
   "metadata": {},
   "source": [
    "Average user ratings for `Xbox One` and `PC` platforms are the same"
   ]
  },
  {
   "cell_type": "markdown",
   "metadata": {},
   "source": [
    "### Alternative"
   ]
  },
  {
   "cell_type": "markdown",
   "metadata": {},
   "source": [
    "Average user ratings for `Xbox One` and `PC` platforms are NOT the same"
   ]
  },
  {
   "cell_type": "markdown",
   "metadata": {},
   "source": [
    "### Вычисление"
   ]
  },
  {
   "cell_type": "code",
   "execution_count": null,
   "metadata": {},
   "outputs": [],
   "source": [
    "alpha = 0.01 # Since the sample is quite large, we choose a smaller level of statistical significance\n",
    "\n",
    "df_actual_user_score_xbox_one = df_actual.query('platform == \"XOne\"')['user_score']\n",
    "df_actual_user_score_pc = df_actual.query('platform == \"PC\"')['user_score']\n",
    "\n",
    "results = st.ttest_ind(\n",
    "    df_actual_user_score_xbox_one, \n",
    "    df_actual_user_score_pc)\n",
    "\n",
    "print('p-value: ', results.pvalue)\n",
    "\n",
    "if (results.pvalue < alpha):\n",
    "    print(\"Rejecting the null hypothesis\")\n",
    "else:\n",
    "    print(\"Rejecting the null hypothesis\")"
   ]
  },
  {
   "cell_type": "markdown",
   "metadata": {},
   "source": [
    "<code style=\"background:black;color:violet\">The null hypothesis was not rejected, which means that there are no significant differences between the samples.</code>"
   ]
  },
  {
   "cell_type": "markdown",
   "metadata": {},
   "source": [
    "## Average user ratings for Action and Sports are different"
   ]
  },
  {
   "cell_type": "markdown",
   "metadata": {},
   "source": [
    "### Null hypothesis"
   ]
  },
  {
   "cell_type": "markdown",
   "metadata": {},
   "source": [
    "Average user ratings for `Action` and `Sports` genres are the same"
   ]
  },
  {
   "cell_type": "markdown",
   "metadata": {},
   "source": [
    "### Alternative"
   ]
  },
  {
   "cell_type": "markdown",
   "metadata": {},
   "source": [
    "Average user ratings for `Action` and `Sports` genres are NOT the same"
   ]
  },
  {
   "cell_type": "markdown",
   "metadata": {},
   "source": [
    "### Calculation"
   ]
  },
  {
   "cell_type": "code",
   "execution_count": null,
   "metadata": {},
   "outputs": [],
   "source": [
    "alpha = 0.01 # Since the sample is quite large, we choose a smaller level of statistical significance\n",
    "\n",
    "df_actual_user_score_action = df_actual.query('genre == \"Action\"')['user_score']\n",
    "df_actual_user_score_sports = df_actual.query('genre == \"Sports\"')['user_score']\n",
    "\n",
    "results = st.ttest_ind(\n",
    "    df_actual_user_score_action, \n",
    "    df_actual_user_score_sports)\n",
    "\n",
    "print('p-value: ', results.pvalue)\n",
    "\n",
    "if (results.pvalue < alpha):\n",
    "    print(\"Rejecting the null hypothesis\")\n",
    "else:\n",
    "    print(\"Failed to reject the null hypothesis\")"
   ]
  },
  {
   "cell_type": "markdown",
   "metadata": {},
   "source": [
    "<code style=\"background:black;color:violet\">Average user rating for the **Action** genre is not equal to the average user rating for the **Sports** genre. </code>"
   ]
  },
  {
   "cell_type": "markdown",
   "metadata": {},
   "source": [
    "# Conclusion"
   ]
  },
  {
   "cell_type": "markdown",
   "metadata": {},
   "source": [
    "To plan an advertising company, first of all, you need to find out what region of sale we are talking about. <br />\n",
    "Next, you need to clarify the genre of the game, platform and age rating. <br />\n",
    "After that, it is necessary to find out the assessment of critics, since it indirectly affects sales. <br />\n",
    "\n",
    "For example, during the study, the following was found: <br />\n",
    "<br />\n",
    "In North America, an `Action` or `Shooter` game on the `Xbox 360` platform with an `E` or `Mature 17+` rating will be a commercial success.\n",
    "<br />\n",
    "In Europe, a game on the `Play Station 3` platform of the `Action` or `Shooter` genre with an `E` or `Mature 17+` rating will be a commercial success.\n",
    "<br />\n",
    "In Japan, a game on the `Nintendo DS` platform of the `Role-Playing` or `Action` genre with an `E` or `Mature 17+` rating will be a commercial success.\n",
    "<br />\n",
    "<br />\n",
    "If you need to be successful all over the world, then you should make a game in the `Shooter` genre on the `Play Station 4` platform."
   ]
  },
  {
   "cell_type": "code",
   "execution_count": null,
   "metadata": {},
   "outputs": [],
   "source": []
  }
 ],
 "metadata": {
  "kernelspec": {
   "display_name": "Python 3",
   "language": "python",
   "name": "python3"
  },
  "language_info": {
   "codemirror_mode": {
    "name": "ipython",
    "version": 3
   },
   "file_extension": ".py",
   "mimetype": "text/x-python",
   "name": "python",
   "nbconvert_exporter": "python",
   "pygments_lexer": "ipython3",
   "version": "3.8.8"
  },
  "toc": {
   "base_numbering": 1,
   "nav_menu": {
    "height": "322.986px",
    "width": "263.993px"
   },
   "number_sections": true,
   "sideBar": true,
   "skip_h1_title": false,
   "title_cell": "Table of Contents",
   "title_sidebar": "Contents",
   "toc_cell": false,
   "toc_position": {
    "height": "calc(100% - 180px)",
    "left": "10px",
    "top": "150px",
    "width": "426.667px"
   },
   "toc_section_display": true,
   "toc_window_display": true
  },
  "varInspector": {
   "cols": {
    "lenName": 16,
    "lenType": 16,
    "lenVar": 40
   },
   "kernels_config": {
    "python": {
     "delete_cmd_postfix": "",
     "delete_cmd_prefix": "del ",
     "library": "var_list.py",
     "varRefreshCmd": "print(var_dic_list())"
    },
    "r": {
     "delete_cmd_postfix": ") ",
     "delete_cmd_prefix": "rm(",
     "library": "var_list.r",
     "varRefreshCmd": "cat(var_dic_list()) "
    }
   },
   "position": {
    "height": "531.302px",
    "left": "1687.3px",
    "right": "20px",
    "top": "124.983px",
    "width": "415.052px"
   },
   "types_to_exclude": [
    "module",
    "function",
    "builtin_function_or_method",
    "instance",
    "_Feature"
   ],
   "window_display": false
  }
 },
 "nbformat": 4,
 "nbformat_minor": 4
}

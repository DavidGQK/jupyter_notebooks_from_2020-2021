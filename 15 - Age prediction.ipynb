{
 "cells": [
  {
   "cell_type": "markdown",
   "metadata": {},
   "source": [
    "# 1. Exploratory data analysis"
   ]
  },
  {
   "cell_type": "code",
   "execution_count": null,
   "metadata": {},
   "outputs": [],
   "source": [
    "import tensorflow as tf\n",
    "from tensorflow.keras import Sequential\n",
    "from tensorflow.keras.layers import Conv2D, Flatten, Dense, GlobalAveragePooling2D\n",
    "from tensorflow.keras.preprocessing.image import ImageDataGenerator\n",
    "from tensorflow.keras.optimizers import Adam\n",
    "from tensorflow.keras.applications.resnet import ResNet50\n",
    "\n",
    "import seaborn as sns\n",
    "import matplotlib.pyplot as plt\n",
    "import pandas as pd\n",
    "import numpy as np\n",
    "import copy\n",
    "\n",
    "pd.set_option('display.max_row', 100)\n",
    "pd.set_option('display.max_columns',100)"
   ]
  },
  {
   "cell_type": "code",
   "execution_count": null,
   "metadata": {},
   "outputs": [],
   "source": [
    "labels = pd.read_csv('/datasets/faces/labels.csv')\n",
    "labels.info()"
   ]
  },
  {
   "cell_type": "code",
   "execution_count": null,
   "metadata": {},
   "outputs": [],
   "source": [
    "train_datagen = ImageDataGenerator(rescale=1./255)"
   ]
  },
  {
   "cell_type": "code",
   "execution_count": null,
   "metadata": {},
   "outputs": [],
   "source": [
    "train_gen_flow = train_datagen.flow_from_dataframe(\n",
    "        dataframe=labels,\n",
    "        directory='/datasets/faces/final_files/',\n",
    "        x_col='file_name',\n",
    "        y_col='real_age',\n",
    "        target_size=(224, 224),\n",
    "        batch_size=32,\n",
    "        class_mode='raw',\n",
    "        seed=12345) "
   ]
  },
  {
   "cell_type": "code",
   "execution_count": null,
   "metadata": {},
   "outputs": [],
   "source": [
    "features, target = next(train_gen_flow)"
   ]
  },
  {
   "cell_type": "code",
   "execution_count": null,
   "metadata": {},
   "outputs": [],
   "source": [
    "fig = plt.figure(figsize=(10,10))\n",
    "for i in range(16):\n",
    "    fig.add_subplot(4, 4, i+1)\n",
    "    plt.imshow(features[i])\n",
    "    plt.xticks([])\n",
    "    plt.yticks([])\n",
    "    plt.tight_layout()"
   ]
  },
  {
   "cell_type": "code",
   "execution_count": null,
   "metadata": {},
   "outputs": [],
   "source": [
    "ax = sns.distplot(target)\n",
    "ax.set_title('Age Distribution Graph')\n",
    "ax.set_xlabel('Age, years')\n",
    "ax.set_ylabel('Probability Density')"
   ]
  },
  {
   "cell_type": "markdown",
   "metadata": {},
   "source": [
    "The data is almost normally distributed with a tail on the right side.\n",
    "<br>When applying the previously studied methods, it would be necessary to carry out pre-processing, although in the case of neural networks, I'm not sure that this is necessary."
   ]
  },
  {
   "cell_type": "markdown",
   "metadata": {},
   "source": [
    "# 2 Train the Model"
   ]
  },
  {
   "cell_type": "markdown",
   "metadata": {},
   "source": [
    "```python\n",
    "\n",
    "import tensorflow as tf\n",
    "from tensorflow.keras import Sequential\n",
    "from tensorflow.keras.layers import GlobalAveragePooling2D, Dense\n",
    "from tensorflow.keras.optimizers import Adam\n",
    "from tensorflow.keras.preprocessing.image import ImageDataGenerator\n",
    "from tensorflow.keras.applications.resnet import ResNet50\n",
    "import matplotlib.pyplot as plt\n",
    "import numpy as np\n",
    "\n",
    "\n",
    "def load_train(path):\n",
    "\n",
    "    labels = pd.read_csv(path + 'labels.csv')\n",
    "\n",
    "    train_datagen = ImageDataGenerator(\n",
    "    rescale=1./255, \n",
    "\thorizontal_flip=True, \n",
    "\tvertical_flip=True, \n",
    "\trotation_range=90, \n",
    "        width_shift_range=0.2,\n",
    "        height_shift_range=0.2)\n",
    "\n",
    "    train_datagen_flow = train_datagen.flow_from_dataframe(\n",
    "        dataframe=labels,\n",
    "    \tdirectory=path,\n",
    "        x_col='file_name',\n",
    "        y_col='real_age',\n",
    "    \ttarget_size=(224, 224),\n",
    "    \tbatch_size=32,\n",
    "    \tclass_mode='raw',\n",
    "    \tseed=12345)\n",
    "\n",
    "    return train_datagen_flow\n",
    "\n",
    "\n",
    "\n",
    "def load_test(path):\n",
    "\n",
    "    labels = pd.read_csv(path + 'labels.csv')\n",
    "\n",
    "    test_datagen = ImageDataGenerator(\n",
    "    \trescale=1./255)\n",
    "\n",
    "    test_datagen_flow = test_datagen.flow_from_dataframe(\n",
    "        dataframe=labels,\n",
    "    \tdirectory=path,\n",
    "        x_col='file_name',\n",
    "        y_col='real_age',\n",
    "    \ttarget_size=(224, 224),\n",
    "    \tbatch_size=32,\n",
    "    \tclass_mode='raw',\n",
    "    \tseed=12345)\n",
    "\n",
    "    return test_datagen_flow\n",
    "\n",
    "def create_model(input_shape):\n",
    "\n",
    "    optimizer = Adam(lr=0.0001)\n",
    "\n",
    "    backbone = ResNet50(input_shape=input_shape,\n",
    "                    weights='imagenet', \n",
    "                    include_top=False)\n",
    "\n",
    "    model = Sequential()\n",
    "    model.add(backbone)\n",
    "    model.add(GlobalAveragePooling2D())\n",
    "    model.add(Dense(1, activation='relu')) \n",
    "\n",
    "    model.compile(loss='mean_squared_error', optimizer=optimizer, metrics=['mae'])\n",
    "\n",
    "    return model\n",
    "\n",
    "\n",
    "def train_model(model, train_datagen_flow, test_datagen_flow, batch_size=32, epochs=5,\n",
    "               steps_per_epoch=None, validation_steps=None):\n",
    "\n",
    "    model.fit(train_datagen_flow,\n",
    "          validation_data=test_datagen_flow,\n",
    "          steps_per_epoch=steps_per_epoch,\n",
    "          validation_steps=validation_steps,\n",
    "          verbose=2, epochs=epochs)\n",
    "\n",
    "    return model\n",
    "\n",
    "```\n"
   ]
  },
  {
   "cell_type": "markdown",
   "metadata": {},
   "source": [
    "Or slightly different variation"
   ]
  },
  {
   "cell_type": "markdown",
   "metadata": {},
   "source": [
    "```python\n",
    "\n",
    "import pandas as pd\n",
    "from tensorflow.keras.preprocessing.image import ImageDataGenerator\n",
    "from tensorflow.keras.applications.resnet import ResNet50\n",
    "from tensorflow.keras.layers import GlobalAveragePooling2D, Dense, Dropout, Flatten\n",
    "from tensorflow.keras.models import Sequential\n",
    "from tensorflow.keras.optimizers import Adam\n",
    " \n",
    "\n",
    "def load_train(path):\n",
    "    labels = pd.read_csv(path + 'labels.csv')\n",
    "    train_datagen = ImageDataGenerator(\n",
    "        validation_split=0.25,\n",
    "        horizontal_flip=True,\n",
    "        rescale=1./255)\n",
    "    train_gen_flow = train_datagen.flow_from_dataframe(\n",
    "        dataframe=labels,\n",
    "        directory=path + 'final_files/',\n",
    "        x_col='file_name',\n",
    "        y_col='real_age',\n",
    "        target_size=(224, 224),\n",
    "        batch_size=16,\n",
    "        class_mode='raw',\n",
    "        subset='training',\n",
    "        seed=12345)\n",
    " \n",
    "    return train_gen_flow\n",
    " \n",
    "\n",
    "def load_test(path):\n",
    "    labels = pd.read_csv(path + 'labels.csv')\n",
    "    test_datagen = ImageDataGenerator(\n",
    "        validation_split=0.25,\n",
    "        rescale=1./255)\n",
    "    test_gen_flow = test_datagen.flow_from_dataframe(\n",
    "        dataframe=labels,\n",
    "        directory=path + 'final_files/',\n",
    "        x_col='file_name',\n",
    "        y_col='real_age',\n",
    "        target_size=(224, 224),\n",
    "        batch_size=16,\n",
    "        class_mode='raw',\n",
    "        subset='validation',\n",
    "        seed=12345)\n",
    " \n",
    "    return test_gen_flow\n",
    "\n",
    "\n",
    "def create_model(input_shape):\n",
    "    backbone = ResNet50(weights='imagenet',\n",
    "                        input_shape=input_shape,\n",
    "                        include_top=False)\n",
    " \n",
    "    model = Sequential()\n",
    "    model.add(backbone)\n",
    "    model.add(GlobalAveragePooling2D())\n",
    "    model.add(Dense(1, activation='relu'))\n",
    " \n",
    "    optimizer = Adam(lr=0.0001)\n",
    "    model.compile(optimizer=optimizer, loss='mse', metrics=['mae'])\n",
    " \n",
    "    return model\n",
    "\n",
    "\n",
    "def train_model(model, train_datagen_flow, val_datagen_flow, batch_size=None, epochs=5, \n",
    "                steps_per_epoch=None, validation_steps=None):\n",
    "    \n",
    "    model.fit(train_datagen_flow, validation_data=val_datagen_flow, epochs=epochs,\n",
    "              steps_per_epoch=steps_per_epoch, validation_steps=validation_steps, verbose=2)\n",
    "    return model\n",
    "\n",
    "\n",
    "```\n"
   ]
  },
  {
   "cell_type": "markdown",
   "metadata": {},
   "source": [
    "```\n",
    "\n",
    "Train for 356 steps, validate for 119 steps\n",
    "Epoch 1/5\n",
    "2021-01-31 18:51:47.963670: I tensorflow/stream_executor/platform/default/dso_loader.cc:44] Successfully opened dynamic library libcublas.so.10\n",
    "2021-01-31 18:51:48.265085: I tensorflow/stream_executor/platform/default/dso_loader.cc:44] Successfully opened dynamic library libcudnn.so.7\n",
    "356/356 - 50s - loss: 190.1777 - mae: 10.1562 - val_loss: 523.5768 - val_mae: 17.7575\n",
    "Epoch 2/5\n",
    "356/356 - 41s - loss: 82.1405 - mae: 6.9148 - val_loss: 246.2643 - val_mae: 12.0417\n",
    "Epoch 3/5\n",
    "356/356 - 41s - loss: 57.3234 - mae: 5.8354 - val_loss: 77.2597 - val_mae: 6.5555\n",
    "Epoch 4/5\n",
    "356/356 - 41s - loss: 41.8642 - mae: 4.9483 - val_loss: 76.4013 - val_mae: 6.6034\n",
    "Epoch 5/5\n",
    "356/356 - 41s - loss: 33.1005 - mae: 4.3866 - val_loss: 79.6053 - val_mae: 6.4891\n",
    "\n",
    "```"
   ]
  }
 ],
 "metadata": {
  "kernelspec": {
   "display_name": "Python 3",
   "language": "python",
   "name": "python3"
  },
  "language_info": {
   "codemirror_mode": {
    "name": "ipython",
    "version": 3
   },
   "file_extension": ".py",
   "mimetype": "text/x-python",
   "name": "python",
   "nbconvert_exporter": "python",
   "pygments_lexer": "ipython3",
   "version": "3.8.8"
  },
  "toc": {
   "base_numbering": 1,
   "nav_menu": {},
   "number_sections": true,
   "sideBar": true,
   "skip_h1_title": false,
   "title_cell": "Table of Contents",
   "title_sidebar": "Contents",
   "toc_cell": false,
   "toc_position": {},
   "toc_section_display": true,
   "toc_window_display": false
  },
  "varInspector": {
   "cols": {
    "lenName": 16,
    "lenType": 16,
    "lenVar": 40
   },
   "kernels_config": {
    "python": {
     "delete_cmd_postfix": "",
     "delete_cmd_prefix": "del ",
     "library": "var_list.py",
     "varRefreshCmd": "print(var_dic_list())"
    },
    "r": {
     "delete_cmd_postfix": ") ",
     "delete_cmd_prefix": "rm(",
     "library": "var_list.r",
     "varRefreshCmd": "cat(var_dic_list()) "
    }
   },
   "types_to_exclude": [
    "module",
    "function",
    "builtin_function_or_method",
    "instance",
    "_Feature"
   ],
   "window_display": false
  }
 },
 "nbformat": 4,
 "nbformat_minor": 2
}

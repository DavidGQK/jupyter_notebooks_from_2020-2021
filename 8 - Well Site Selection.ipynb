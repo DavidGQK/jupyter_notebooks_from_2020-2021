{
 "cells": [
  {
   "cell_type": "markdown",
   "metadata": {},
   "source": [
    "# Description of the project"
   ]
  },
  {
   "cell_type": "markdown",
   "metadata": {},
   "source": [
    "It is necessary to decide where to drill a new well. The steps for choosing a location are usually as follows:\n",
    "\n",
    "- Characteristics for wells are collected in the selected region: oil quality and volume of its reserves;\n",
    "- Build a model to predict the volume of reserves in new wells;\n",
    "- Choose the wells with the highest value estimates;\n",
    "- Determine the region with the maximum total profit of the selected wells.\n",
    "\n",
    "There are oil samples in three regions. The characteristics for each well in the region are already known. It is necessary to build a model to determine the region where mining will bring the greatest profit by analyzing the possible profit and risks using the Bootstrap technique."
   ]
  },
  {
   "cell_type": "markdown",
   "metadata": {},
   "source": [
    "## Conditions of the problem"
   ]
  },
  {
   "cell_type": "markdown",
   "metadata": {},
   "source": [
    "- Only linear regression is suitable for training the model (the rest are not predictable enough).\n",
    "- When exploring a region, 500 points are explored, from which the best 200 are selected for profit calculation.\n",
    "- The budget for the development of wells in the region is 10 billion rubles.\n",
    "- One barrel of raw materials brings 450 rubles of income. The income from each unit of the product is 450 thousand rubles, since the volume is indicated in thousands of barrels.\n",
    "- After assessing the risks, you need to leave only those regions in which the probability of losses is less than 2.5%. Among them, choose the region with the highest average profit.\n",
    "\n",
    "Synthetic data: details of contracts and characteristics of deposits were not disclosed."
   ]
  },
  {
   "cell_type": "markdown",
   "metadata": {},
   "source": [
    "# Description of data"
   ]
  },
  {
   "cell_type": "markdown",
   "metadata": {},
   "source": [
    "Geological exploration data of three regions are in the files:\n",
    "\n",
    "- `geo_data_0.csv`;\n",
    "- `geo_data_1.csv`;\n",
    "- `geo_data_2.csv`;\n",
    "- `id` — unique identifier of the well;\n",
    "- `f0`, `f1`, `f2` - three signs of dots (it doesn't matter what they mean, but the signs themselves are significant);\n",
    "- `product` — volume of reserves in the well (thousand barrels)."
   ]
  },
  {
   "cell_type": "markdown",
   "metadata": {},
   "source": [
    "# Action plan"
   ]
  },
  {
   "cell_type": "markdown",
   "metadata": {},
   "source": [
    "1. Download and prepare data\n",
    "2. Train and test the model for each region: <br />\n",
    "    2.1. Split the data into training and validation samples in a ratio of 75:25. <br />\n",
    "    2.2. Train the model and make predictions on the validation set. <br />\n",
    "    2.3. Store predictions and correct answers on the validation set. <br />\n",
    "    2.4. Print on the screen the average stock of the predicted raw material and the RMSE of the model. <br />\n",
    "    2.5. Analyze results. <br />\n",
    "3. Prepare for profit calculation: <br />\n",
    "    3.1. Save all key values ​​for calculations in separate variables. <br />\n",
    "    3.2. Calculate a sufficient volume of raw materials for the break-even development of a new well. Compare the received volume of raw materials with the average stock in each region. <br />\n",
    "    3.3. Write conclusions on the stage of preparing the calculation of profit. <br />\n",
    "4. Write a function to calculate profit for selected wells and model predictions: <br />\n",
    "    4.1. Select wells with maximum prediction values. The number of wells depends on the company's budget and the cost of developing one well. <br />\n",
    "    4.2. Sum the target value of the volume of raw materials corresponding to these predictions. <br />\n",
    "    4.3. Calculate the profit for the received volume of raw materials. <br />\n",
    "5. Calculate risks and profits for each region: <br />\n",
    "    5.1. Apply the Bootstrap technique with 1000 samples to find the profit distribution. <br />\n",
    "    5.2. Find the average profit, 95% confidence interval and risk of loss. Loss is negative profit. <br />\n",
    "    5.3. Write conclusions: suggest a region for well development and justify the choice. <br />"
   ]
  },
  {
   "cell_type": "markdown",
   "metadata": {},
   "source": [
    "# Import data files, study general information"
   ]
  },
  {
   "cell_type": "code",
   "execution_count": null,
   "metadata": {},
   "outputs": [],
   "source": [
    "import pandas as pd\n",
    "import numpy as np\n",
    "import matplotlib.pyplot as plt\n",
    "import seaborn as sns\n",
    "import os\n",
    "from IPython.display import display\n",
    "\n",
    "\n",
    "from sklearn.preprocessing import StandardScaler\n",
    "from sklearn.model_selection import train_test_split\n",
    "from sklearn.utils import shuffle\n",
    "\n",
    "from sklearn.linear_model import LinearRegression\n",
    "\n",
    "from sklearn.metrics import mean_squared_error\n",
    "from sklearn.metrics import accuracy_score\n",
    "from sklearn.metrics import f1_score\n",
    "\n",
    "from sklearn.metrics import roc_curve\n",
    "from sklearn.metrics import roc_auc_score\n",
    "\n",
    "from scipy import stats as st\n",
    "\n",
    "pd.set_option('display.max_rows', 1000)\n",
    "pd.set_option('display.max_columns', 1000)"
   ]
  },
  {
   "cell_type": "code",
   "execution_count": null,
   "metadata": {},
   "outputs": [],
   "source": [
    "PATH = \"/datasets\"\n",
    "files = ['geo_data_0.csv', 'geo_data_1.csv', 'geo_data_2.csv']\n",
    "q = range(len(files))\n",
    "dfs = []\n",
    "\n",
    "for file in files:\n",
    "    with open(os.path.join(PATH, file)) as f:\n",
    "        dfs.append(pd.read_csv(f, sep=','))\n",
    "\n",
    "for df in dfs:\n",
    "    \n",
    "    display(df)\n",
    "    df.info()"
   ]
  },
  {
   "cell_type": "markdown",
   "metadata": {},
   "source": [
    "# Data preparation"
   ]
  },
  {
   "cell_type": "markdown",
   "metadata": {},
   "source": [
    "Get rid of unnecessary features"
   ]
  },
  {
   "cell_type": "code",
   "execution_count": null,
   "metadata": {},
   "outputs": [],
   "source": [
    "for i in q: dfs[i] = dfs[i].drop(['id'], axis=1)"
   ]
  },
  {
   "cell_type": "markdown",
   "metadata": {},
   "source": [
    "Divide the samples into sets with features and a target feature"
   ]
  },
  {
   "cell_type": "code",
   "execution_count": null,
   "metadata": {},
   "outputs": [],
   "source": [
    "features = []\n",
    "target = []\n",
    "\n",
    "for i in q:\n",
    "    \n",
    "    features.append(dfs[i].drop(['product'], axis=1))\n",
    "    target.append(dfs[i]['product'])"
   ]
  },
  {
   "cell_type": "markdown",
   "metadata": {},
   "source": [
    "Let's split the data into two samples: train, validation `3 : 1`"
   ]
  },
  {
   "cell_type": "code",
   "execution_count": null,
   "metadata": {
    "scrolled": true
   },
   "outputs": [],
   "source": [
    "features_train = []\n",
    "features_valid = []\n",
    "target_train = []\n",
    "target_valid = []\n",
    "\n",
    "for i in q:\n",
    "    a, b = train_test_split(features[i], test_size=0.25, random_state=12345)\n",
    "    features_train.append(a)\n",
    "    features_valid.append(b)\n",
    "    \n",
    "    a, b = train_test_split(target[i], test_size=0.25, random_state=12345)\n",
    "    target_train.append(a)\n",
    "    target_valid.append(b)\n",
    "    \n",
    "    print(features[i].shape)\n",
    "    print(features_train[i].shape)\n",
    "    print(features_valid[i].shape)\n",
    "    print(target_train[i].shape)\n",
    "    print(target_valid[i].shape)\n",
    "    print()"
   ]
  },
  {
   "cell_type": "markdown",
   "metadata": {},
   "source": [
    "Scale features"
   ]
  },
  {
   "cell_type": "code",
   "execution_count": null,
   "metadata": {},
   "outputs": [],
   "source": [
    "numeric = ['f0', 'f1', 'f2']\n",
    "\n",
    "for i in q:\n",
    "    scaler = StandardScaler()\n",
    "    scaler.fit(features_train[i].loc[:, numeric])\n",
    "    features_train[i].loc[:, numeric] = scaler.transform(features_train[i].loc[:, numeric])\n",
    "    features_valid[i].loc[:, numeric] = scaler.transform(features_valid[i].loc[:, numeric])\n",
    "    features[i].loc[:, numeric] = scaler.transform(features[i].loc[:, numeric])"
   ]
  },
  {
   "cell_type": "markdown",
   "metadata": {},
   "source": [
    "# Train and validate the model"
   ]
  },
  {
   "cell_type": "code",
   "execution_count": null,
   "metadata": {},
   "outputs": [],
   "source": [
    "predicted_valid = []\n",
    "predicted = []\n",
    "\n",
    "for i in q:  \n",
    "    model = LinearRegression()\n",
    "    model.fit(features_train[i], target_train[i])\n",
    "\n",
    "    predicted_valid.append(model.predict(features_valid[i]))\n",
    "    predicted_valid[i] = pd.Series(predicted_valid[i], index=target_valid[i].index) \n",
    "\n",
    "    predicted.append(model.predict(features[i]))\n",
    "    predicted[i] = pd.Series(predicted[i], index=target[i].index) \n",
    "    \n",
    "    rmse = mean_squared_error(target[i], predicted[i]) ** 0.5\n",
    "    \n",
    "    print('The average stock of the predicted raw materials of the region', i, '(in thousand bar):', '{:,.2f}'.format(predicted[i].mean()))\n",
    "    print('RMSE (in thousand bar):', rmse)\n",
    "    print()"
   ]
  },
  {
   "cell_type": "markdown",
   "metadata": {},
   "source": [
    "## Conclusion:"
   ]
  },
  {
   "cell_type": "markdown",
   "metadata": {},
   "source": [
    "The RMSE of the model is quite high, but this is not an indicator. To draw any conclusions, it is also necessary to use other metrics."
   ]
  },
  {
   "cell_type": "markdown",
   "metadata": {},
   "source": [
    "# Calculation of the volume of raw materials for break-even development of a new well"
   ]
  },
  {
   "cell_type": "code",
   "execution_count": null,
   "metadata": {},
   "outputs": [],
   "source": [
    "POINTS = 500 # number of studied points\n",
    "BEST_POINTS = 200 # number of best spots\n",
    "BUDGET = 10e9 # well development budget, rub.\n",
    "BUDGET_PER_POINT = BUDGET / BEST_POINTS\n",
    "BAR_PRICE = 450000 # price per 1 thousand bar.\n",
    "VOLUME = BUDGET_PER_POINT / BAR_PRICE\n",
    "\n",
    "print('Required volume for break-even development of a new well, in thousand bar:', '{:,.2f}'.format(VOLUME))\n",
    "\n",
    "for i in q: print('Average stock in the region', i, '(in thousand bar):', '{:,.2f}'.format(predicted[i].mean()))"
   ]
  },
  {
   "cell_type": "markdown",
   "metadata": {},
   "source": [
    "## Conclusion"
   ]
  },
  {
   "cell_type": "markdown",
   "metadata": {},
   "source": [
    "Comparison of the average reserves in the regions with the break-even required volume at first glance shows that there are not enough oil reserves in the selected regions. However, this view may be misleading, as the mean is easily outlier and each case must be studied in detail."
   ]
  },
  {
   "cell_type": "markdown",
   "metadata": {},
   "source": [
    "# Function to calculate profit for selected wells and model predictions|"
   ]
  },
  {
   "cell_type": "code",
   "execution_count": null,
   "metadata": {},
   "outputs": [],
   "source": [
    "def revenue(subsample, target):\n",
    "    index = subsample.sort_values(ascending=False).head(BEST_POINTS).index\n",
    "    return target[index].sum() * BAR_PRICE - BUDGET_PER_POINT * BEST_POINTS"
   ]
  },
  {
   "cell_type": "markdown",
   "metadata": {},
   "source": [
    "# Calculation of risks and rewards for each region"
   ]
  },
  {
   "cell_type": "code",
   "execution_count": null,
   "metadata": {
    "scrolled": false
   },
   "outputs": [],
   "source": [
    "for i in q:\n",
    "    state = np.random.RandomState(12345)\n",
    "    values = []\n",
    "    for j in range(1000):\n",
    "\n",
    "        subsample = predicted[i].sample(n=POINTS, replace=True, random_state=state)\n",
    "        values.append(revenue(subsample, target[i]))\n",
    "\n",
    "    values = pd.Series(values)\n",
    "\n",
    "    lower = values.quantile(0.025)\n",
    "    upper = values.quantile(0.975)\n",
    "    mean_value = values.mean()\n",
    "    risk = (values[values < 0].count() / values.count()) * 100\n",
    "\n",
    "    print('Average profit of the region', i, '(rub.)', '{:,.2f}'.format(mean_value))\n",
    "    print('95% confidence interval (rub.): от','{:,.2f}'.format(lower),'до', '{:,.2f}'.format(upper))\n",
    "    print('Риск убытков (%):','{:.2f}'.format(risk))\n",
    "    print()\n",
    "    sns.distplot(values, kde=True)\n",
    "    plt.xlabel('Revenue')\n",
    "    plt.show()"
   ]
  },
  {
   "cell_type": "markdown",
   "metadata": {},
   "source": [
    "## Conclusion"
   ]
  },
  {
   "cell_type": "markdown",
   "metadata": {},
   "source": [
    "As a development region, I suggest choosing `\"region 1\"`, because:\n",
    "  - The 2.5% quantile of this region has the largest value, which differs many times from other regions\n",
    "  - the risk of loss is minimal\n",
    "  - average value of profit - the largest of the presented\n",
    " \n",
    "That is, with a 95% probability we can say that the profit will be at least more than 37 million rubles."
   ]
  },
  {
   "cell_type": "code",
   "execution_count": null,
   "metadata": {},
   "outputs": [],
   "source": [
    "values = ['a', 'b', 'c', 'd', 'e']\n",
    "values = pd.Series(values)\n",
    "state = np.random.RandomState(12345)\n",
    "for i in range(5):\n",
    "    \n",
    "    subsample = values.sample(n=2, replace=True, random_state=12345)\n",
    "    print(state)\n",
    "    print(subsample)\n",
    "    print()"
   ]
  },
  {
   "cell_type": "code",
   "execution_count": null,
   "metadata": {},
   "outputs": [],
   "source": []
  }
 ],
 "metadata": {
  "kernelspec": {
   "display_name": "Python 3",
   "language": "python",
   "name": "python3"
  },
  "language_info": {
   "codemirror_mode": {
    "name": "ipython",
    "version": 3
   },
   "file_extension": ".py",
   "mimetype": "text/x-python",
   "name": "python",
   "nbconvert_exporter": "python",
   "pygments_lexer": "ipython3",
   "version": "3.8.8"
  },
  "toc": {
   "base_numbering": 1,
   "nav_menu": {},
   "number_sections": true,
   "sideBar": true,
   "skip_h1_title": false,
   "title_cell": "Table of Contents",
   "title_sidebar": "Contents",
   "toc_cell": false,
   "toc_position": {},
   "toc_section_display": true,
   "toc_window_display": true
  },
  "varInspector": {
   "cols": {
    "lenName": 16,
    "lenType": 16,
    "lenVar": 40
   },
   "kernels_config": {
    "python": {
     "delete_cmd_postfix": "",
     "delete_cmd_prefix": "del ",
     "library": "var_list.py",
     "varRefreshCmd": "print(var_dic_list())"
    },
    "r": {
     "delete_cmd_postfix": ") ",
     "delete_cmd_prefix": "rm(",
     "library": "var_list.r",
     "varRefreshCmd": "cat(var_dic_list()) "
    }
   },
   "types_to_exclude": [
    "module",
    "function",
    "builtin_function_or_method",
    "instance",
    "_Feature"
   ],
   "window_display": false
  }
 },
 "nbformat": 4,
 "nbformat_minor": 4
}

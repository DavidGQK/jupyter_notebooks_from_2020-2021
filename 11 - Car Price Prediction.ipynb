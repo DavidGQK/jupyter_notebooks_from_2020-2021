{
 "cells": [
  {
   "cell_type": "markdown",
   "metadata": {},
   "source": [
    "# Description of the project"
   ]
  },
  {
   "cell_type": "markdown",
   "metadata": {},
   "source": [
    "Service for the sale of used cars \"Not beaten, not beautiful\" is developing an application to attract new customers. In it, you can quickly find out the market value of your car. Historical data is available: technical characteristics, configurations and prices of cars. You need to build a model to determine the cost.\n",
    "\n",
    "The customer is important:\n",
    "- quality of prediction;\n",
    "- prediction speed;\n",
    "- studying time."
   ]
  },
  {
   "cell_type": "markdown",
   "metadata": {},
   "source": [
    "# Description of data"
   ]
  },
  {
   "cell_type": "markdown",
   "metadata": {},
   "source": [
    "The data is in the `/datasets/autos.csv` file.\n",
    "\n",
    "Signs:\n",
    "\n",
    "- DateCrawled - date of downloading the profile from the database\n",
    "- VehicleType - type of car body\n",
    "- RegistrationYear — year of car registration\n",
    "- Gearbox - type of gearbox\n",
    "- Power - power (hp)\n",
    "- Model - car model\n",
    "- Kilometer - mileage (km)\n",
    "- RegistrationMonth — month of car registration\n",
    "- FuelType — type of fuel\n",
    "- Brand - car brand\n",
    "- NotRepaired - was the car under repair or not\n",
    "- DateCreated — date of creation of the questionnaire\n",
    "- NumberOfPictures - the number of photos of the car\n",
    "- PostalCode - postal code of the owner of the profile (user)\n",
    "- LastSeen - date of last user activity\n",
    "\n",
    "Target feature:\n",
    "- Price - price (EUR)"
   ]
  },
  {
   "cell_type": "markdown",
   "metadata": {},
   "source": [
    "# Action plan"
   ]
  },
  {
   "cell_type": "markdown",
   "metadata": {},
   "source": [
    "1. Download data\n",
    "\n",
    "2. Analyze and prepare data\n",
    "\n",
    "3. Build price forecast models and evaluate their quality\n",
    "\n",
    "4. Conclusion\n",
    "\n",
    "Notes:\n",
    "\n",
    "- The RMSE metric will be applied to assess the quality of models\n",
    "- Gradient boosting model will be implemented using the LightGBM library\n",
    "- Since the gradient boosting model can be trained for a long time, only 2-3 parameters will be changed for it"
   ]
  },
  {
   "cell_type": "markdown",
   "metadata": {},
   "source": [
    "# Loading data"
   ]
  },
  {
   "cell_type": "code",
   "execution_count": null,
   "metadata": {},
   "outputs": [],
   "source": [
    "import pandas as pd\n",
    "import numpy as np\n",
    "import matplotlib.pyplot as plt\n",
    "import seaborn as sns\n",
    "from IPython.display import display\n",
    "\n",
    "from sklearn.dummy import DummyClassifier\n",
    "from sklearn.model_selection import train_test_split\n",
    "from sklearn.preprocessing import StandardScaler\n",
    "\n",
    "from sklearn.model_selection import GridSearchCV\n",
    "from sklearn.ensemble import RandomForestRegressor\n",
    "from sklearn.tree import DecisionTreeRegressor\n",
    "from sklearn.linear_model import LinearRegression\n",
    "\n",
    "from sklearn.metrics import mean_squared_error\n",
    "\n",
    "import lightgbm as lgb\n",
    "\n",
    "pd.set_option('display.max_row',100)\n",
    "pd.set_option('display.max_columns',100)"
   ]
  },
  {
   "cell_type": "code",
   "execution_count": null,
   "metadata": {},
   "outputs": [],
   "source": [
    "df = pd.read_csv('/datasets/autos.csv', sep=',')\n",
    "# df = pd.read_csv('datasets/autos.csv', sep=',')\n",
    "df"
   ]
  },
  {
   "cell_type": "code",
   "execution_count": null,
   "metadata": {},
   "outputs": [],
   "source": [
    "df.info()"
   ]
  },
  {
   "cell_type": "code",
   "execution_count": null,
   "metadata": {},
   "outputs": [],
   "source": [
    "df.describe()"
   ]
  },
  {
   "cell_type": "markdown",
   "metadata": {},
   "source": [
    "# Data analysis and preparation"
   ]
  },
  {
   "cell_type": "markdown",
   "metadata": {},
   "source": [
    "The following factors affect the price calculation:\n",
    "<br>VehicleType, RegistrationYear, Gearbox, Power, Kilometer, RegistrationMonth, FuelType, NotRepaired, Price.\n",
    "<br>We will continue to work with them.\n",
    "\n",
    "With the number of photos is a moot point. But we will assume that their number does not affect the price."
   ]
  },
  {
   "cell_type": "code",
   "execution_count": null,
   "metadata": {},
   "outputs": [],
   "source": [
    "df_n = df[['VehicleType', 'RegistrationYear', 'Gearbox', 'Power', 'Kilometer', \n",
    "           'FuelType', 'NotRepaired', 'Price']]"
   ]
  },
  {
   "cell_type": "markdown",
   "metadata": {
    "heading_collapsed": true
   },
   "source": [
    "## Car type"
   ]
  },
  {
   "cell_type": "markdown",
   "metadata": {
    "hidden": true
   },
   "source": [
    "Total number of rows and number of missing values"
   ]
  },
  {
   "cell_type": "code",
   "execution_count": null,
   "metadata": {
    "hidden": true
   },
   "outputs": [],
   "source": [
    "a = df_n['VehicleType'].count()\n",
    "b = df_n['VehicleType'].isna().sum()\n",
    "print(a)\n",
    "print(b)\n",
    "100*b/a"
   ]
  },
  {
   "cell_type": "markdown",
   "metadata": {
    "hidden": true
   },
   "source": [
    "Let's take a look at the data"
   ]
  },
  {
   "cell_type": "code",
   "execution_count": null,
   "metadata": {
    "hidden": true
   },
   "outputs": [],
   "source": [
    "df_n['VehicleType'].sort_values().unique()"
   ]
  },
  {
   "cell_type": "markdown",
   "metadata": {
    "hidden": true
   },
   "source": [
    "Remove missing values"
   ]
  },
  {
   "cell_type": "code",
   "execution_count": null,
   "metadata": {
    "hidden": true
   },
   "outputs": [],
   "source": [
    "index = df_n[df_n['VehicleType'].isna() == True].index\n",
    "df_n = df_n.drop(index).reset_index(drop=True)\n",
    "df_n.info()"
   ]
  },
  {
   "cell_type": "markdown",
   "metadata": {
    "heading_collapsed": true
   },
   "source": [
    "## Year of registration"
   ]
  },
  {
   "cell_type": "markdown",
   "metadata": {
    "hidden": true
   },
   "source": [
    "Total number of rows and number of missing values"
   ]
  },
  {
   "cell_type": "code",
   "execution_count": null,
   "metadata": {
    "hidden": true,
    "scrolled": true
   },
   "outputs": [],
   "source": [
    "a = df_n['RegistrationYear'].count()\n",
    "b = df_n['RegistrationYear'].isna().sum()\n",
    "print(a)\n",
    "print(b)\n",
    "100*b/a"
   ]
  },
  {
   "cell_type": "code",
   "execution_count": null,
   "metadata": {
    "hidden": true,
    "scrolled": false
   },
   "outputs": [],
   "source": [
    "sns.displot(df_n['RegistrationYear'],kde=True)"
   ]
  },
  {
   "cell_type": "markdown",
   "metadata": {
    "hidden": true
   },
   "source": [
    "The spread is very strong.\n",
    "<br>Let's limit the minimum year - 1990. After this year, it seems to me, the car can not be considered rare. Everything that used to be a rarity and the price for it is determined based on specific characteristics.\n",
    "<br>And the limitation of the maximum year is today, 2020."
   ]
  },
  {
   "cell_type": "code",
   "execution_count": null,
   "metadata": {
    "hidden": true
   },
   "outputs": [],
   "source": [
    "index = df_n.loc[(df_n['RegistrationYear'] < 1990) | (df_n['RegistrationYear'] > 2016)].index\n",
    "df_n = df_n.drop(index).reset_index(drop=True)\n",
    "sns.displot(df_n['RegistrationYear'],kde=True)\n",
    "plt.show()\n",
    "df_n.info()"
   ]
  },
  {
   "cell_type": "markdown",
   "metadata": {
    "heading_collapsed": true
   },
   "source": [
    "## Gearbox type"
   ]
  },
  {
   "cell_type": "markdown",
   "metadata": {
    "hidden": true
   },
   "source": [
    "Total number of rows and number of missing values"
   ]
  },
  {
   "cell_type": "code",
   "execution_count": null,
   "metadata": {
    "hidden": true
   },
   "outputs": [],
   "source": [
    "a = df_n['Gearbox'].count()\n",
    "b = df_n['Gearbox'].isna().sum()\n",
    "print(a)\n",
    "print(b)\n",
    "100*b/a"
   ]
  },
  {
   "cell_type": "markdown",
   "metadata": {
    "hidden": true
   },
   "source": [
    "Let's take a look at the data"
   ]
  },
  {
   "cell_type": "code",
   "execution_count": null,
   "metadata": {
    "hidden": true
   },
   "outputs": [],
   "source": [
    "df_n['Gearbox'].sort_values().unique()"
   ]
  },
  {
   "cell_type": "markdown",
   "metadata": {
    "hidden": true
   },
   "source": [
    "Remove missing values"
   ]
  },
  {
   "cell_type": "code",
   "execution_count": null,
   "metadata": {
    "hidden": true
   },
   "outputs": [],
   "source": [
    "index = df_n[df_n['Gearbox'].isna() == True].index\n",
    "df_n = df_n.drop(index).reset_index(drop=True)\n",
    "df_n.info()"
   ]
  },
  {
   "cell_type": "markdown",
   "metadata": {
    "heading_collapsed": true
   },
   "source": [
    "## Power"
   ]
  },
  {
   "cell_type": "markdown",
   "metadata": {
    "hidden": true
   },
   "source": [
    "Total number of rows and number of missing values"
   ]
  },
  {
   "cell_type": "code",
   "execution_count": null,
   "metadata": {
    "hidden": true,
    "scrolled": true
   },
   "outputs": [],
   "source": [
    "a = df_n['Power'].count()\n",
    "b = df_n['Power'].isna().sum()\n",
    "print(a)\n",
    "print(b)\n",
    "100*b/a"
   ]
  },
  {
   "cell_type": "code",
   "execution_count": null,
   "metadata": {
    "hidden": true,
    "scrolled": false
   },
   "outputs": [],
   "source": [
    "sns.displot(df_n['Power'],kde=True)"
   ]
  },
  {
   "cell_type": "markdown",
   "metadata": {
    "hidden": true
   },
   "source": [
    "The spread is very strong.\n",
    "<br>Minimum limit - 20. In case someone decides to put up for sale a car similar in characteristics to Zaporozhets.\n",
    "<br>And the maximum limit is 700. This is the power of the most powerful tractor to date. Of course, there are also capacities of more than 1000, up to 1600, but they are extremely few and unlikely to be sold on this site."
   ]
  },
  {
   "cell_type": "code",
   "execution_count": null,
   "metadata": {
    "hidden": true
   },
   "outputs": [],
   "source": [
    "index = df_n.loc[(df_n['Power'] < 20) | (df_n['Power'] > 700)].index\n",
    "df_n = df_n.drop(index).reset_index(drop=True)\n",
    "sns.displot(df_n['Power'],kde=True)\n",
    "plt.show()\n",
    "df_n.info()"
   ]
  },
  {
   "cell_type": "markdown",
   "metadata": {
    "heading_collapsed": true
   },
   "source": [
    "## Mileage"
   ]
  },
  {
   "cell_type": "markdown",
   "metadata": {
    "hidden": true
   },
   "source": [
    "Total number of rows and number of missing values"
   ]
  },
  {
   "cell_type": "code",
   "execution_count": null,
   "metadata": {
    "hidden": true,
    "scrolled": true
   },
   "outputs": [],
   "source": [
    "a = df_n['Kilometer'].count()\n",
    "b = df_n['Kilometer'].isna().sum()\n",
    "print(a)\n",
    "print(b)\n",
    "100*b/a"
   ]
  },
  {
   "cell_type": "code",
   "execution_count": null,
   "metadata": {
    "hidden": true,
    "scrolled": false
   },
   "outputs": [],
   "source": [
    "sns.displot(df_n['Kilometer'],height=8,aspect=1,kde=True)"
   ]
  },
  {
   "cell_type": "markdown",
   "metadata": {
    "hidden": true
   },
   "source": [
    "Пробег может быть любым в данном случае"
   ]
  },
  {
   "cell_type": "markdown",
   "metadata": {
    "heading_collapsed": true
   },
   "source": [
    "## Fuel type"
   ]
  },
  {
   "cell_type": "markdown",
   "metadata": {
    "hidden": true
   },
   "source": [
    "Total number of rows and number of missing values"
   ]
  },
  {
   "cell_type": "code",
   "execution_count": null,
   "metadata": {
    "hidden": true
   },
   "outputs": [],
   "source": [
    "a = df_n['FuelType'].count()\n",
    "b = df_n['FuelType'].isna().sum()\n",
    "print(a)\n",
    "print(b)\n",
    "100*b/a"
   ]
  },
  {
   "cell_type": "markdown",
   "metadata": {
    "hidden": true
   },
   "source": [
    "Let's take a look at the data"
   ]
  },
  {
   "cell_type": "code",
   "execution_count": null,
   "metadata": {
    "hidden": true
   },
   "outputs": [],
   "source": [
    "df_n['FuelType'].sort_values().unique()"
   ]
  },
  {
   "cell_type": "markdown",
   "metadata": {
    "hidden": true
   },
   "source": [
    "Remove missing values"
   ]
  },
  {
   "cell_type": "code",
   "execution_count": null,
   "metadata": {
    "hidden": true,
    "scrolled": true
   },
   "outputs": [],
   "source": [
    "index = df_n[df_n['FuelType'].isna() == True].index\n",
    "df_n = df_n.drop(index).reset_index(drop=True)\n",
    "df_n.info()"
   ]
  },
  {
   "cell_type": "markdown",
   "metadata": {
    "heading_collapsed": true
   },
   "source": [
    "## Repair mark"
   ]
  },
  {
   "cell_type": "markdown",
   "metadata": {
    "hidden": true
   },
   "source": [
    "Total number of rows and number of missing values"
   ]
  },
  {
   "cell_type": "code",
   "execution_count": null,
   "metadata": {
    "hidden": true
   },
   "outputs": [],
   "source": [
    "a = df_n['NotRepaired'].count()\n",
    "b = df_n['NotRepaired'].isna().sum()\n",
    "print(a)\n",
    "print(b)\n",
    "100*b/a"
   ]
  },
  {
   "cell_type": "markdown",
   "metadata": {
    "hidden": true
   },
   "source": [
    "Let's take a look at the data"
   ]
  },
  {
   "cell_type": "code",
   "execution_count": null,
   "metadata": {
    "hidden": true
   },
   "outputs": [],
   "source": [
    "df_n['NotRepaired'].sort_values().unique()"
   ]
  },
  {
   "cell_type": "markdown",
   "metadata": {
    "hidden": true
   },
   "source": [
    "Remove missing values"
   ]
  },
  {
   "cell_type": "code",
   "execution_count": null,
   "metadata": {
    "hidden": true
   },
   "outputs": [],
   "source": [
    "index = df_n[df_n['NotRepaired'].isna() == True].index\n",
    "df_n = df_n.drop(index).reset_index(drop=True)\n",
    "df_n.info()"
   ]
  },
  {
   "cell_type": "code",
   "execution_count": null,
   "metadata": {
    "hidden": true,
    "scrolled": true
   },
   "outputs": [],
   "source": [
    "df_n['NotRepaired'] = df_n['NotRepaired'].fillna('no')\n",
    "df_n.info()"
   ]
  },
  {
   "cell_type": "markdown",
   "metadata": {},
   "source": [
    "## Price"
   ]
  },
  {
   "cell_type": "markdown",
   "metadata": {},
   "source": [
    "Total number of rows and number of missing values"
   ]
  },
  {
   "cell_type": "code",
   "execution_count": null,
   "metadata": {
    "scrolled": true
   },
   "outputs": [],
   "source": [
    "a = df_n['Price'].count()\n",
    "b = df_n['Price'].isna().sum()\n",
    "print(a)\n",
    "print(b)\n",
    "100*b/a"
   ]
  },
  {
   "cell_type": "code",
   "execution_count": null,
   "metadata": {
    "scrolled": false
   },
   "outputs": [],
   "source": [
    "sns.displot(df_n['Price'],kde=True)"
   ]
  },
  {
   "cell_type": "markdown",
   "metadata": {},
   "source": [
    "The spread is very strong.\n",
    "<br>Minimum limit - 100. You can't find a cheaper price on European sites.\n",
    "<br>In this case, you can do without limiting the maximum."
   ]
  },
  {
   "cell_type": "code",
   "execution_count": null,
   "metadata": {},
   "outputs": [],
   "source": [
    "index = df_n.loc[(df_n['Price'] < 100)].index\n",
    "df_n = df_n.drop(index).reset_index(drop=True)\n",
    "sns.displot(df_n['Price'],kde=True)\n",
    "plt.show()\n",
    "df_n.info()"
   ]
  },
  {
   "cell_type": "markdown",
   "metadata": {},
   "source": [
    "# Building price forecast models"
   ]
  },
  {
   "cell_type": "markdown",
   "metadata": {},
   "source": [
    "First, we build simple linear regression, decision tree, and random forest models without gradient boosting.\n",
    "<br>Then the same models, but with gradient boosting."
   ]
  },
  {
   "cell_type": "markdown",
   "metadata": {},
   "source": [
    "Let's transform categorical features into quantitative ones"
   ]
  },
  {
   "cell_type": "code",
   "execution_count": null,
   "metadata": {},
   "outputs": [],
   "source": [
    "df_ohe = pd.get_dummies(df_n, drop_first=True)\n",
    "df_ohe.info()"
   ]
  },
  {
   "cell_type": "markdown",
   "metadata": {},
   "source": [
    "Divide the sample into sets with features and a target feature"
   ]
  },
  {
   "cell_type": "code",
   "execution_count": null,
   "metadata": {},
   "outputs": [],
   "source": [
    "features = df_ohe.drop(['Price'], axis=1)\n",
    "target = df_ohe['Price']"
   ]
  },
  {
   "cell_type": "markdown",
   "metadata": {},
   "source": [
    "Let's break the sets into three subsets: train, validation and test in the ratio `3:1:1`"
   ]
  },
  {
   "cell_type": "code",
   "execution_count": null,
   "metadata": {},
   "outputs": [],
   "source": [
    "features_train, features_valid = train_test_split(features, test_size=0.20, random_state=12345)\n",
    "features_train, features_test = train_test_split(features_train, test_size=0.25, random_state=12345)\n",
    "\n",
    "target_train, target_valid = train_test_split(target, test_size=0.20, random_state=12345)\n",
    "target_train, target_test = train_test_split(target_train, test_size=0.25, random_state=12345)\n",
    "\n",
    "print(features.shape)\n",
    "print(target.shape)\n",
    "print(features_train.shape)\n",
    "print(target_train.shape)\n",
    "print(features_valid.shape)\n",
    "print(target_valid.shape)\n",
    "print(features_test.shape)\n",
    "print(target_test.shape)"
   ]
  },
  {
   "cell_type": "markdown",
   "metadata": {},
   "source": [
    "Scale features"
   ]
  },
  {
   "cell_type": "code",
   "execution_count": null,
   "metadata": {},
   "outputs": [],
   "source": [
    "scaler = StandardScaler()\n",
    "scaler.fit(features_train)\n",
    "features_train = scaler.transform(features_train)\n",
    "features_valid = scaler.transform(features_valid)\n",
    "features_test = scaler.transform(features_test)"
   ]
  },
  {
   "cell_type": "markdown",
   "metadata": {},
   "source": [
    "## Linear regression"
   ]
  },
  {
   "cell_type": "code",
   "execution_count": null,
   "metadata": {},
   "outputs": [],
   "source": [
    "%%time\n",
    "model_lr = LinearRegression()\n",
    "model_lr.fit(features_train, target_train)\n",
    "predictions = model_lr.predict(features_valid)\n",
    "rmse = mean_squared_error(target_valid, predictions) ** 0.5\n",
    "print('RMSE linear regression:', rmse)"
   ]
  },
  {
   "cell_type": "markdown",
   "metadata": {},
   "source": [
    "## Decision tree"
   ]
  },
  {
   "cell_type": "code",
   "execution_count": null,
   "metadata": {},
   "outputs": [],
   "source": [
    "%%time\n",
    "param_grid = {'max_depth': range(1,100,10)}\n",
    "\n",
    "dtr = GridSearchCV(estimator=DecisionTreeRegressor(random_state=12345), param_grid=param_grid, cv=5)\n",
    "dtr.fit(features_train, target_train)\n",
    "dtr.best_params_"
   ]
  },
  {
   "cell_type": "code",
   "execution_count": null,
   "metadata": {},
   "outputs": [],
   "source": [
    "predictions = dtr.predict(features_valid)\n",
    "rmse = mean_squared_error(target_valid, predictions) ** 0.5\n",
    "print('RMSE decision tree:', rmse)"
   ]
  },
  {
   "cell_type": "markdown",
   "metadata": {},
   "source": [
    "## Random forest"
   ]
  },
  {
   "cell_type": "code",
   "execution_count": null,
   "metadata": {},
   "outputs": [],
   "source": [
    "%%time\n",
    "param_grid = {'n_estimators': range(1,40,10), 'max_depth': range(1,40,10)}\n",
    "\n",
    "rfr = GridSearchCV(estimator=RandomForestRegressor(random_state=12345), param_grid=param_grid, cv=5)\n",
    "rfr.fit(features_train, target_train)\n",
    "rfr.best_params_"
   ]
  },
  {
   "cell_type": "code",
   "execution_count": null,
   "metadata": {},
   "outputs": [],
   "source": [
    "predictions = rfr.predict(features_valid)\n",
    "rmse = mean_squared_error(target_valid, predictions) ** 0.5\n",
    "print('RMSE random forest:', rmse)"
   ]
  },
  {
   "cell_type": "markdown",
   "metadata": {},
   "source": [
    "## LightGBM"
   ]
  },
  {
   "cell_type": "code",
   "execution_count": null,
   "metadata": {},
   "outputs": [],
   "source": [
    "hyper_params = {\n",
    "    'task': 'train',\n",
    "    'boosting_type': 'gbdt',\n",
    "    'objective': 'regression',\n",
    "    'metric': 'rmse',\n",
    "    'learning_rate': 0.005,\n",
    "    'verbose': 0,\n",
    "    \"max_depth\": 8,\n",
    "    \"num_iterations\": 20000,\n",
    "    \"n_estimators\": 1000\n",
    "}"
   ]
  },
  {
   "cell_type": "code",
   "execution_count": null,
   "metadata": {
    "scrolled": true
   },
   "outputs": [],
   "source": [
    "%%time\n",
    "gbm = lgb.LGBMRegressor(**hyper_params)\n",
    "gbm.fit(features_train, target_train, \n",
    "        eval_set=[(features_valid, target_valid)],\n",
    "        eval_metric='rmse', verbose=0)\n",
    "\n",
    "print('RMSE LightGBM:', gbm.best_score_['valid_0']['rmse'])"
   ]
  },
  {
   "cell_type": "markdown",
   "metadata": {},
   "source": [
    "# Checking models on a test dataset"
   ]
  },
  {
   "cell_type": "code",
   "execution_count": null,
   "metadata": {
    "scrolled": true
   },
   "outputs": [],
   "source": [
    "predictions = model_lr.predict(features_test)\n",
    "rmse = mean_squared_error(target_test, predictions) ** 0.5\n",
    "print('RMSE Linear Regression:', rmse)\n",
    "\n",
    "predictions = dtr.predict(features_test)\n",
    "rmse = mean_squared_error(target_test, predictions) ** 0.5\n",
    "print('RMSE Decision Tree:', rmse)\n",
    "\n",
    "predictions = rfr.predict(features_test)\n",
    "rmse = mean_squared_error(target_test, predictions) ** 0.5\n",
    "print('RMSE random forest:', rmse)\n",
    "\n",
    "predictions = gbm.predict(features_test)\n",
    "rmse = mean_squared_error(target_test, predictions) ** 0.5\n",
    "print('RMSE LightGBM:', rmse)"
   ]
  },
  {
   "cell_type": "markdown",
   "metadata": {},
   "source": [
    "Importance of factors"
   ]
  },
  {
   "cell_type": "code",
   "execution_count": null,
   "metadata": {},
   "outputs": [],
   "source": [
    "feature_importances = pd.DataFrame(gbm.feature_importances_,\n",
    "                                   index = features.columns,\n",
    "                                   columns=['importance']).sort_values('importance', ascending=False)\n",
    "feature_importances"
   ]
  },
  {
   "cell_type": "markdown",
   "metadata": {},
   "source": [
    "# Conclusion"
   ]
  },
  {
   "cell_type": "markdown",
   "metadata": {},
   "source": [
    "As can be seen from the results on the test dataset, LightGBM takes first place, and random forest is in second place.\n",
    "<br>It should also be taken into account that LightGBM works, in this case, 5 times faster than random forest"
   ]
  },
  {
   "cell_type": "markdown",
   "metadata": {},
   "source": [
    "# Appendix 1"
   ]
  },
  {
   "cell_type": "markdown",
   "metadata": {},
   "source": [
    "Combine train and validation datasets"
   ]
  },
  {
   "cell_type": "code",
   "execution_count": null,
   "metadata": {},
   "outputs": [],
   "source": [
    "features_tr_v = np.concatenate([features_train, features_valid])\n",
    "target_tr_v = np.concatenate([target_train, target_valid])\n",
    "\n",
    "print(features_train.shape)\n",
    "print(features_valid.shape)\n",
    "print(features_tr_v.shape)\n",
    "print()\n",
    "print(target_train.shape)\n",
    "print(target_valid.shape)\n",
    "print(target_tr_v.shape)"
   ]
  },
  {
   "cell_type": "markdown",
   "metadata": {},
   "source": [
    "Linear Regression"
   ]
  },
  {
   "cell_type": "code",
   "execution_count": null,
   "metadata": {},
   "outputs": [],
   "source": [
    "%%time\n",
    "model_lr = LinearRegression()\n",
    "model_lr.fit(features_tr_v, target_tr_v)\n",
    "predictions = model_lr.predict(features_test)\n",
    "rmse = mean_squared_error(target_test, predictions) ** 0.5\n",
    "print('RMSE Linear Regression:', rmse)"
   ]
  },
  {
   "cell_type": "markdown",
   "metadata": {},
   "source": [
    "LightGBM"
   ]
  },
  {
   "cell_type": "code",
   "execution_count": null,
   "metadata": {},
   "outputs": [],
   "source": [
    "hyper_params = {\n",
    "    'task': 'train',\n",
    "    'boosting_type': 'gbdt',\n",
    "    'objective': 'regression',\n",
    "    'metric': 'rmse',\n",
    "    'learning_rate': 0.005,\n",
    "    'verbose': 0,\n",
    "    \"max_depth\": 8,\n",
    "    \"num_iterations\": 20000,\n",
    "    \"n_estimators\": 1000\n",
    "}"
   ]
  },
  {
   "cell_type": "code",
   "execution_count": null,
   "metadata": {},
   "outputs": [],
   "source": [
    "%%time\n",
    "gbm = lgb.LGBMRegressor(**hyper_params)\n",
    "gbm.fit(features_tr_v, target_tr_v, \n",
    "        eval_set=[(features_test, target_test)],\n",
    "        eval_metric='rmse', verbose=0)\n",
    "\n",
    "print('RMSE LightGBM:', gbm.best_score_['valid_0']['rmse'])"
   ]
  },
  {
   "cell_type": "markdown",
   "metadata": {},
   "source": [
    "Hmm, predictions haven't improved. Perhaps I missed something."
   ]
  },
  {
   "cell_type": "markdown",
   "metadata": {},
   "source": [
    "# Appendix 2"
   ]
  },
  {
   "cell_type": "markdown",
   "metadata": {},
   "source": [
    "We will issue the predictions of the test sample in the form of a dataset"
   ]
  },
  {
   "cell_type": "code",
   "execution_count": null,
   "metadata": {},
   "outputs": [],
   "source": [
    "predictions = pd.DataFrame(gbm.predict(features_test),columns=['Predictions'])"
   ]
  },
  {
   "cell_type": "markdown",
   "metadata": {},
   "source": [
    "We combine all the features and predictions of the test set, and also calculate the difference between predictions and answers"
   ]
  },
  {
   "cell_type": "code",
   "execution_count": null,
   "metadata": {},
   "outputs": [],
   "source": [
    "diff = df_n.merge(target_test, left_index=True, right_index=True).reset_index(drop=True)\n",
    "diff = diff.merge(predictions, left_index=True, right_index=True)\n",
    "diff['difference'] = abs(diff['Price_y'] - diff['Predictions'])\n",
    "diff.head()"
   ]
  },
  {
   "cell_type": "markdown",
   "metadata": {},
   "source": [
    "I think 500 euros can fluctuate the price of the same car. The percentage of errors less than 500 euros is equal to:"
   ]
  },
  {
   "cell_type": "code",
   "execution_count": null,
   "metadata": {},
   "outputs": [],
   "source": [
    "100 * diff.loc[diff['difference'] < 500, 'difference'].count() / diff['difference'].count()"
   ]
  },
  {
   "cell_type": "markdown",
   "metadata": {},
   "source": [
    "Less than 10% is not great. Let's look at the lines"
   ]
  },
  {
   "cell_type": "code",
   "execution_count": null,
   "metadata": {},
   "outputs": [],
   "source": [
    "under_500 = diff.query('difference < 500')\n",
    "under_500"
   ]
  },
  {
   "cell_type": "code",
   "execution_count": null,
   "metadata": {},
   "outputs": [],
   "source": [
    "more_500 = diff.query('difference > 500')\n",
    "more_500"
   ]
  },
  {
   "cell_type": "code",
   "execution_count": null,
   "metadata": {},
   "outputs": [],
   "source": []
  }
 ],
 "metadata": {
  "kernelspec": {
   "display_name": "Python 3",
   "language": "python",
   "name": "python3"
  },
  "language_info": {
   "codemirror_mode": {
    "name": "ipython",
    "version": 3
   },
   "file_extension": ".py",
   "mimetype": "text/x-python",
   "name": "python",
   "nbconvert_exporter": "python",
   "pygments_lexer": "ipython3",
   "version": "3.8.8"
  },
  "toc": {
   "base_numbering": 1,
   "nav_menu": {},
   "number_sections": true,
   "sideBar": true,
   "skip_h1_title": false,
   "title_cell": "Table of Contents",
   "title_sidebar": "Contents",
   "toc_cell": false,
   "toc_position": {},
   "toc_section_display": true,
   "toc_window_display": true
  },
  "varInspector": {
   "cols": {
    "lenName": 16,
    "lenType": 16,
    "lenVar": 40
   },
   "kernels_config": {
    "python": {
     "delete_cmd_postfix": "",
     "delete_cmd_prefix": "del ",
     "library": "var_list.py",
     "varRefreshCmd": "print(var_dic_list())"
    },
    "r": {
     "delete_cmd_postfix": ") ",
     "delete_cmd_prefix": "rm(",
     "library": "var_list.r",
     "varRefreshCmd": "cat(var_dic_list()) "
    }
   },
   "types_to_exclude": [
    "module",
    "function",
    "builtin_function_or_method",
    "instance",
    "_Feature"
   ],
   "window_display": false
  }
 },
 "nbformat": 4,
 "nbformat_minor": 4
}

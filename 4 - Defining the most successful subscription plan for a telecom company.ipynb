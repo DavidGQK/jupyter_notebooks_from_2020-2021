{
 "cells": [
  {
   "cell_type": "markdown",
   "metadata": {},
   "source": [
    "# Project Description"
   ]
  },
  {
   "cell_type": "markdown",
   "metadata": {},
   "source": [
    "Megaline is a mobile operator. Clients are offered two tariff plans: \"Smart\" and \"Ultra\". To adjust the advertising budget, the commercial department wants to understand which tariff brings in more money.\n",
    "It is necessary to make a preliminary analysis of tariffs on a small sample of customers. The data of 500 Megaline users is available: who they are, where they are from, what tariff they use, how many calls and messages each sent in 2018. It is necessary to analyze the behavior of customers and draw a conclusion - which tariff is better."
   ]
  },
  {
   "cell_type": "markdown",
   "metadata": {},
   "source": [
    "# Plans Description"
   ]
  },
  {
   "cell_type": "markdown",
   "metadata": {},
   "source": [
    "## \"Smart\" plan\n",
    "- Monthly fee: 550 rubles\n",
    "- Included 500 minutes of calls, 50 messages and 15 GB of internet traffic\n",
    "- The cost of services above the tariff package:\n",
    "- minute of conversation: 3 rubles\n",
    "- message: 3 rubles\n",
    "- 1 GB of Internet traffic: 200 rubles\n",
    "\n",
    "## \"Ultra\" plan\n",
    "- Monthly fee: 1950 rubles\n",
    "- Included 3000 minutes of calls, 1000 messages and 30 GB of internet traffic\n",
    "- The cost of services above the tariff package:\n",
    "- minute of conversation: 1 ruble\n",
    "- message: 1 ruble\n",
    "- 1 GB of Internet traffic: 150 rubles"
   ]
  },
  {
   "cell_type": "markdown",
   "metadata": {},
   "source": [
    "# Data Description"
   ]
  },
  {
   "cell_type": "markdown",
   "metadata": {},
   "source": [
    "## Users table (user information):\n",
    "- user_id - unique user ID\n",
    "- first_name - username\n",
    "- last_name - last name of the user\n",
    "- age — user's age (years)\n",
    "- reg_date — tariff connection date (day, month, year)\n",
    "- churn_date — date when the tariff was discontinued (if the value is omitted, then the tariff was still valid at the time of data upload)\n",
    "- city — user's city of residence\n",
    "- tariff — tariff plan name\n",
    "\n",
    "## Table calls (information about calls):\n",
    "- id — unique call number\n",
    "- call_date — call date\n",
    "- duration — call duration in minutes\n",
    "- user_id — identifier of the user who made the call\n",
    "\n",
    "## Messages table (message information):\n",
    "- id — unique message number\n",
    "- message_date — message date\n",
    "- user_id — identifier of the user who sent the message\n",
    "\n",
    "## internet table (information about internet sessions):\n",
    "\n",
    "- id — unique session number\n",
    "- mb_used - the amount of Internet traffic spent per session (in megabytes)\n",
    "- session_date — internet session date\n",
    "- user_id - user ID\n",
    "\n",
    "## Tariffs table (tariff information):\n",
    "- tariff_name — tariff name\n",
    "- rub_monthly_fee — monthly subscription fee in rubles\n",
    "- minutes_included - the number of minutes of conversation per month included in the subscription fee\n",
    "- messages_included - number of messages per month included in the subscription fee\n",
    "- mb_per_month_included - the amount of Internet traffic included in the subscription fee (in megabytes)\n",
    "- rub_per_minute - the cost of a minute of conversation in excess of the tariff package (for example, if the tariff includes 100 minutes of conversation per month, then a fee will be charged from 101 minutes)\n",
    "- rub_per_message - the cost of sending a message in excess of the tariff package\n",
    "- rub_per_gb - the cost of an additional gigabyte of Internet traffic in excess of the tariff package (1 gigabyte = 1024 megabytes)"
   ]
  },
  {
   "cell_type": "markdown",
   "metadata": {},
   "source": [
    "# Part 1. Import data files, study general information"
   ]
  },
  {
   "cell_type": "code",
   "execution_count": null,
   "metadata": {},
   "outputs": [],
   "source": [
    "import pandas as pd\n",
    "import numpy as np\n",
    "import matplotlib.pyplot as plt\n",
    "from scipy import stats as st\n",
    "from IPython.display import display\n",
    "\n",
    "\n",
    "pd.set_option('display.max_rows', 1000)\n",
    "pd.set_option('display.max_columns', 1000)"
   ]
  },
  {
   "cell_type": "code",
   "execution_count": null,
   "metadata": {},
   "outputs": [],
   "source": [
    "# Let's define a function for printing a dataset and information about it\n",
    "\n",
    "def print_df(table):\n",
    "    \n",
    "    display(table)\n",
    "    print()\n",
    "    table.info()"
   ]
  },
  {
   "cell_type": "markdown",
   "metadata": {},
   "source": [
    "### Users"
   ]
  },
  {
   "cell_type": "code",
   "execution_count": null,
   "metadata": {
    "scrolled": true
   },
   "outputs": [],
   "source": [
    "#df_users = pd.read_csv('C:/Users/KDG/Google Drive/data science/4 Статистический анализ данных/project/users.csv', sep=',')\n",
    "df_users = pd.read_csv('/datasets/users.csv', sep=',')\n",
    "print_df(df_users)"
   ]
  },
  {
   "cell_type": "markdown",
   "metadata": {},
   "source": [
    "### Calls"
   ]
  },
  {
   "cell_type": "code",
   "execution_count": null,
   "metadata": {
    "scrolled": true
   },
   "outputs": [],
   "source": [
    "df_calls = pd.read_csv('/datasets/calls.csv', sep=',')\n",
    "print_df(df_calls)"
   ]
  },
  {
   "cell_type": "markdown",
   "metadata": {},
   "source": [
    "### Messages"
   ]
  },
  {
   "cell_type": "code",
   "execution_count": null,
   "metadata": {
    "scrolled": true
   },
   "outputs": [],
   "source": [
    "df_messages = pd.read_csv('/datasets/messages.csv', sep=',')\n",
    "print_df(df_messages)"
   ]
  },
  {
   "cell_type": "markdown",
   "metadata": {},
   "source": [
    "### Internet"
   ]
  },
  {
   "cell_type": "code",
   "execution_count": null,
   "metadata": {
    "scrolled": true
   },
   "outputs": [],
   "source": [
    "df_internet = pd.read_csv('/datasets/internet.csv', sep=',')\n",
    "print_df(df_internet)"
   ]
  },
  {
   "cell_type": "markdown",
   "metadata": {},
   "source": [
    "### Тарифы"
   ]
  },
  {
   "cell_type": "code",
   "execution_count": null,
   "metadata": {
    "scrolled": true
   },
   "outputs": [],
   "source": [
    "df_tariffs = pd.read_csv('/datasets/tariffs.csv', sep=',')\n",
    "print_df(df_tariffs)   "
   ]
  },
  {
   "cell_type": "markdown",
   "metadata": {},
   "source": [
    "# Part 2. Data preparation"
   ]
  },
  {
   "cell_type": "markdown",
   "metadata": {},
   "source": [
    "## Change the data types of the columns to more appropriate ones and fill in the gaps where needed"
   ]
  },
  {
   "cell_type": "markdown",
   "metadata": {},
   "source": [
    "### Users"
   ]
  },
  {
   "cell_type": "code",
   "execution_count": null,
   "metadata": {},
   "outputs": [],
   "source": [
    "# Let's define a function to print the unique values of each column. This is necessary in order to view the data \"with the eyes\"\n",
    "def print_df_c(table):\n",
    "    \n",
    "    for name_col in table.columns:\n",
    "        print(name_col)\n",
    "        print()\n",
    "        print(table[name_col].value_counts().sort_values(ascending=False).head(1000))\n",
    "        print()\n",
    "        print('---------------------------------------------------------------------------------------------------------------')\n",
    "        print()"
   ]
  },
  {
   "cell_type": "code",
   "execution_count": null,
   "metadata": {},
   "outputs": [],
   "source": [
    "print_df_c(df_users)"
   ]
  },
  {
   "cell_type": "code",
   "execution_count": null,
   "metadata": {},
   "outputs": [],
   "source": [
    "df_users['churn_date'].fillna(0)\n",
    "df_users['churn_date'] = pd.to_datetime(df_users['churn_date'], format='%Y-%m-%d')\n",
    "df_users['reg_date'] = pd.to_datetime(df_users['reg_date'], format='%Y-%m-%d')\n",
    "df_users.info()"
   ]
  },
  {
   "cell_type": "code",
   "execution_count": null,
   "metadata": {},
   "outputs": [],
   "source": [
    "# Check for duplicates\n",
    "df_users.duplicated().sum()"
   ]
  },
  {
   "cell_type": "markdown",
   "metadata": {},
   "source": [
    "### Calls"
   ]
  },
  {
   "cell_type": "code",
   "execution_count": null,
   "metadata": {
    "scrolled": true
   },
   "outputs": [],
   "source": [
    "print_df_c(df_calls)"
   ]
  },
  {
   "cell_type": "code",
   "execution_count": null,
   "metadata": {
    "scrolled": true
   },
   "outputs": [],
   "source": [
    "# Lots of calls with zero duration. This indicates that the call was missed. It makes sense to remove these values,\n",
    "# as further you will find the number of calls and the number of spent minutes by month\n",
    "\n",
    "index = df_calls[df_calls['duration'] == 0].index\n",
    "df_calls = df_calls.drop(index).reset_index(drop=True)\n",
    "\n",
    "\n",
    "df_calls['call_date'] = pd.to_datetime(df_calls['call_date'], format='%Y-%m-%d')\n",
    "df_calls['duration'] = df_calls['duration'].apply(np.ceil).astype('int64')\n",
    "df_calls.info()"
   ]
  },
  {
   "cell_type": "code",
   "execution_count": null,
   "metadata": {},
   "outputs": [],
   "source": [
    "# Check for duplicates\n",
    "df_calls.duplicated().sum()"
   ]
  },
  {
   "cell_type": "markdown",
   "metadata": {},
   "source": [
    "### Messages"
   ]
  },
  {
   "cell_type": "code",
   "execution_count": null,
   "metadata": {},
   "outputs": [],
   "source": [
    "print_df_c(df_messages)"
   ]
  },
  {
   "cell_type": "code",
   "execution_count": null,
   "metadata": {},
   "outputs": [],
   "source": [
    "df_messages['message_date'] = pd.to_datetime(df_messages['message_date'], format='%Y-%m-%d')\n",
    "df_messages.info()"
   ]
  },
  {
   "cell_type": "code",
   "execution_count": null,
   "metadata": {},
   "outputs": [],
   "source": [
    "# Check for duplicates\n",
    "df_messages.duplicated().sum()"
   ]
  },
  {
   "cell_type": "markdown",
   "metadata": {},
   "source": [
    "### Интернет"
   ]
  },
  {
   "cell_type": "code",
   "execution_count": null,
   "metadata": {},
   "outputs": [],
   "source": [
    "print_df_c(df_internet)"
   ]
  },
  {
   "cell_type": "code",
   "execution_count": null,
   "metadata": {},
   "outputs": [],
   "source": [
    "df_internet['session_date'] = pd.to_datetime(df_internet['session_date'], format='%Y-%m-%d')\n",
    "df_internet['mb_used'] = df_internet['mb_used'].apply(np.ceil).astype('int64')\n",
    "df_internet.info()"
   ]
  },
  {
   "cell_type": "code",
   "execution_count": null,
   "metadata": {},
   "outputs": [],
   "source": [
    "# Check for duplicates\n",
    "df_internet.duplicated().sum()"
   ]
  },
  {
   "cell_type": "markdown",
   "metadata": {},
   "source": [
    "### Tariffs"
   ]
  },
  {
   "cell_type": "code",
   "execution_count": null,
   "metadata": {
    "scrolled": true
   },
   "outputs": [],
   "source": [
    "print_df_c(df_tariffs)\n",
    "df_tariffs.info()"
   ]
  },
  {
   "cell_type": "markdown",
   "metadata": {},
   "source": [
    "## Count data for each user"
   ]
  },
  {
   "cell_type": "markdown",
   "metadata": {},
   "source": [
    "### Let's create a dataframe with all the statistics. Add the following monthly data to it:\n",
    "- calls made\n",
    "- spent minutes of conversation\n",
    "- the number of messages sent\n",
    "- the amount of Internet traffic used\n",
    "- monthly revenue from each user"
   ]
  },
  {
   "cell_type": "code",
   "execution_count": null,
   "metadata": {
    "scrolled": true
   },
   "outputs": [],
   "source": [
    "# Let's add a column with operation months to each type of service\n",
    "df_calls['month'] = df_calls['call_date'].dt.month\n",
    "df_messages['month'] = df_messages['message_date'].dt.month\n",
    "df_internet['month'] = df_internet['session_date'].dt.month\n",
    "\n",
    "# Create dataframes with service costs for each type\n",
    "count_calls = df_calls.groupby(['user_id', 'month']).agg({'user_id': 'count', 'duration': 'sum'}).rename(columns={'user_id':'count_calls'}).reset_index()\n",
    "count_messages = df_messages.groupby(['user_id', 'month']).agg({'user_id': 'count'}).rename(columns={'user_id':'count_messages'}).reset_index()\n",
    "count_internet = df_internet.groupby(['user_id', 'month']).agg({'mb_used': 'sum'}).reset_index()\n",
    "\n",
    "print_df(count_calls)\n",
    "print_df(count_messages)\n",
    "print_df(count_internet)"
   ]
  },
  {
   "cell_type": "code",
   "execution_count": null,
   "metadata": {
    "scrolled": false
   },
   "outputs": [],
   "source": [
    "# Let's create a common dataframe with costs for each type of service\n",
    "\n",
    "df_general = pd.merge(count_calls, count_messages, on=['user_id', 'month'], how='outer')\n",
    "df_general = pd.merge(df_general, count_internet, on=['user_id', 'month'], how='outer')\n",
    "df_general = pd.merge(df_general, df_users[['user_id', 'city', 'tariff']], on='user_id', how='outer')\n",
    "df_tariffs = df_tariffs.rename(columns={'tariff_name':'tariff'})\n",
    "df_general = pd.merge(df_general, df_tariffs, on='tariff', how='outer')\n",
    "\n",
    "\n",
    "print_df(df_general)"
   ]
  },
  {
   "cell_type": "code",
   "execution_count": null,
   "metadata": {
    "scrolled": true
   },
   "outputs": [],
   "source": [
    "# There are two `users_id` with no indication of using the number. Let's see in more detail\n",
    "print_df(df_users.query('user_id == \"1128\"'))\n",
    "print_df(df_users.query('user_id == \"1371\"'))"
   ]
  },
  {
   "cell_type": "code",
   "execution_count": null,
   "metadata": {},
   "outputs": [],
   "source": [
    "# They can be removed from the selection. They canceled the contract for communication a few days after the connection.\n",
    "# They did not perform any actions, they can be removed from the selection\n",
    "df_general = df_general.dropna(subset=['month']).reset_index(drop=True)\n",
    "df_general.info()"
   ]
  },
  {
   "cell_type": "code",
   "execution_count": null,
   "metadata": {
    "scrolled": true
   },
   "outputs": [],
   "source": [
    "# Let's convert the \"float\" format to \"int64\" after replacing \"NaN\" with zeros in the number of messages and used Internet traffic\n",
    "df_general['count_calls'] = df_general['count_calls'].fillna(0)\n",
    "df_general['duration'] = df_general['duration'].fillna(0)\n",
    "df_general['count_messages'] = df_general['count_messages'].fillna(0)\n",
    "df_general['mb_used'] = df_general['mb_used'].fillna(0)\n",
    "\n",
    "df_general['month'] = df_general['month'].astype('int64')\n",
    "df_general['count_calls'] = df_general['count_calls'].astype('int64')\n",
    "df_general['duration'] = df_general['duration'].astype('int64')\n",
    "df_general['count_messages'] = df_general['count_messages'].astype('int64')\n",
    "df_general['mb_used'] = df_general['mb_used'].astype('int64')\n",
    "\n",
    "\n",
    "# Define a function for calculating revenue per user\n",
    "def calc_profit(row):\n",
    "    \n",
    "    profit = row['rub_monthly_fee']\n",
    "    \n",
    "    add_messages = row['count_messages'] - row['messages_included']\n",
    "    add_internet = (row['mb_used'] - row['mb_per_month_included']) / 1024\n",
    "    \n",
    "    if add_messages > 0: profit += add_messages * row['rub_per_message']\n",
    "    if add_internet > 0: profit += add_internet * row['rub_per_gb']\n",
    "    \n",
    "    return profit\n",
    "\n",
    "df_general['profit'] = df_general.apply(calc_profit, axis=1)\n",
    "print_df(df_general)"
   ]
  },
  {
   "cell_type": "markdown",
   "metadata": {},
   "source": [
    "# Part 3. Data analysis"
   ]
  },
  {
   "cell_type": "markdown",
   "metadata": {},
   "source": [
    "## Calculate mean, variance and standard deviation, build histograms for:\n",
    "- call duration\n",
    "- number of sent messages\n",
    "- used internet traffic"
   ]
  },
  {
   "cell_type": "code",
   "execution_count": null,
   "metadata": {},
   "outputs": [],
   "source": [
    "# call duration in minutes\n",
    "minutes_ultra_Moscow = df_general.loc[(df_general['tariff'] == 'ultra') & (df_general['city'] == 'Москва'), 'duration']\n",
    "minutes_ultra_not_Moscow = df_general.loc[(df_general['tariff'] == 'ultra') & (df_general['city'] != 'Москва'), 'duration']\n",
    "minutes_smart_Moscow = df_general.loc[(df_general['tariff'] == 'smart') & (df_general['city'] == 'Москва'), 'duration']\n",
    "minutes_smart_not_Moscow = df_general.loc[(df_general['tariff'] == 'smart') & (df_general['city'] != 'Москва'), 'duration']\n",
    "\n",
    "\n",
    "# number of sms\n",
    "sms_ultra_Moscow = df_general.loc[(df_general['tariff'] == 'ultra') & (df_general['city'] == 'Москва'), 'count_messages']\n",
    "sms_ultra_not_Moscow = df_general.loc[(df_general['tariff'] == 'ultra') & (df_general['city'] != 'Москва'), 'count_messages']\n",
    "sms_smart_Moscow = df_general.loc[(df_general['tariff'] == 'smart') & (df_general['city'] == 'Москва'), 'count_messages']\n",
    "sms_smart_not_Moscow = df_general.loc[(df_general['tariff'] == 'smart') & (df_general['city'] != 'Москва'), 'count_messages']\n",
    "\n",
    "\n",
    "# amount of internet traffic\n",
    "traf_ultra_Moscow = df_general.loc[(df_general['tariff'] == 'ultra') & (df_general['city'] == 'Москва'), 'mb_used']\n",
    "traf_ultra_not_Moscow = df_general.loc[(df_general['tariff'] == 'ultra') & (df_general['city'] != 'Москва'), 'mb_used']\n",
    "traf_smart_Moscow = df_general.loc[(df_general['tariff'] == 'smart') & (df_general['city'] == 'Москва'), 'mb_used']\n",
    "traf_smart_not_Moscow = df_general.loc[(df_general['tariff'] == 'smart') & (df_general['city'] != 'Москва'), 'mb_used']"
   ]
  },
  {
   "cell_type": "code",
   "execution_count": null,
   "metadata": {},
   "outputs": [],
   "source": [
    "# Get rid of zeros. In this case, the zeros distort the real picture.\n",
    "def del_null(table):\n",
    "    \n",
    "    index = table.loc[table == 0].index\n",
    "    return table.drop(index).reset_index(drop=True)\n",
    "\n",
    "\n",
    "minutes_ultra_Moscow = del_null(minutes_ultra_Moscow)\n",
    "minutes_ultra_not_Moscow = del_null(minutes_ultra_not_Moscow)\n",
    "minutes_smart_Moscow = del_null(minutes_smart_Moscow)\n",
    "minutes_smart_not_Moscow = del_null(minutes_smart_not_Moscow)\n",
    "\n",
    "sms_ultra_Moscow = del_null(sms_ultra_Moscow)\n",
    "sms_ultra_not_Moscow = del_null(sms_ultra_not_Moscow)\n",
    "sms_smart_Moscow = del_null(sms_smart_Moscow)\n",
    "sms_smart_not_Moscow = del_null(sms_smart_not_Moscow)\n",
    "\n",
    "traf_ultra_Moscow = del_null(traf_ultra_Moscow)\n",
    "traf_ultra_not_Moscow = del_null(traf_ultra_not_Moscow)\n",
    "traf_smart_Moscow = del_null(traf_smart_Moscow)\n",
    "traf_smart_not_Moscow = del_null(traf_smart_not_Moscow)"
   ]
  },
  {
   "cell_type": "code",
   "execution_count": null,
   "metadata": {},
   "outputs": [],
   "source": [
    "# определим функции для нахождения верхних и нижних границ\n",
    "def bot_line(table):\n",
    "    \n",
    "    Q1 = table.quantile(0.25)\n",
    "    Q3 = table.quantile(0.75)\n",
    "    IQR = Q3 - Q1\n",
    "    return Q1 - 1.5*IQR\n",
    "    \n",
    "    \n",
    "def top_line(table):\n",
    "    \n",
    "    Q1 = table.quantile(0.25)\n",
    "    Q3 = table.quantile(0.75)\n",
    "    IQR = Q3 - Q1\n",
    "    return Q3 + 1.5*IQR    \n",
    "\n",
    "# function for plotting a histogram and a box with a mustache\n",
    "def hist_box_do(table, table_name):\n",
    "    \n",
    "    mean_table = table.mean()\n",
    "    median_table = table.median()\n",
    "    variance_table = np.var(table, ddof=1)   \n",
    "    standart_dev_table = np.std(table, ddof=1)  \n",
    "    \n",
    "    bot = bot_line(table)\n",
    "    top = top_line(table)\n",
    "    \n",
    "    plt.hist(table)\n",
    "    plt.title(table_name)\n",
    "    plt.show()\n",
    "    \n",
    "    plt.boxplot(table)\n",
    "    plt.show()\n",
    "    \n",
    "    print('Q1-1.5IQR =', bot)\n",
    "    print('Q3+1.5IQR =', top)\n",
    "    print('Mean:', mean_table)\n",
    "    print('Median:', median_table)\n",
    "    print('Dispersion:', variance_table) \n",
    "    print('Standard deviation:', standart_dev_table)\n",
    "    print('-------------------------------------------------------------------------------------------------------------------')"
   ]
  },
  {
   "cell_type": "code",
   "execution_count": null,
   "metadata": {
    "scrolled": true
   },
   "outputs": [],
   "source": [
    "# Let's build graphs\n",
    "table_names = ['minutes_ultra_Moscow', 'minutes_ultra_not_Moscow', 'minutes_smart_Moscow', 'minutes_smart_not_Moscow',\n",
    "               'sms_ultra_Moscow', 'sms_ultra_not_Moscow', 'sms_smart_Moscow', 'sms_smart_not_Moscow',\n",
    "               'traf_ultra_Moscow', 'traf_ultra_not_Moscow', 'traf_smart_Moscow', 'traf_smart_not_Moscow'                 \n",
    "              ]  \n",
    "\n",
    "hist_box_do(minutes_ultra_Moscow, table_names[0])\n",
    "hist_box_do(minutes_ultra_not_Moscow, table_names[1])\n",
    "hist_box_do(minutes_smart_Moscow, table_names[2])\n",
    "hist_box_do(minutes_smart_not_Moscow, table_names[3])\n",
    "\n",
    "hist_box_do(sms_ultra_Moscow, table_names[4])\n",
    "hist_box_do(sms_ultra_not_Moscow, table_names[5])\n",
    "hist_box_do(sms_smart_Moscow, table_names[6])\n",
    "hist_box_do(sms_smart_not_Moscow, table_names[7])\n",
    "\n",
    "hist_box_do(traf_ultra_Moscow, table_names[8])\n",
    "hist_box_do(traf_ultra_not_Moscow, table_names[9])\n",
    "hist_box_do(traf_smart_Moscow, table_names[10])\n",
    "hist_box_do(traf_smart_not_Moscow, table_names[11])"
   ]
  },
  {
   "cell_type": "markdown",
   "metadata": {},
   "source": [
    "### Remove outliers"
   ]
  },
  {
   "cell_type": "code",
   "execution_count": null,
   "metadata": {},
   "outputs": [],
   "source": [
    "def blowout(table): \n",
    "    \n",
    "    bot = bot_line(table)\n",
    "    top = top_line(table)\n",
    "    index = table.loc[(table < bot) | (table > top)].index\n",
    "    table = table.drop(index).reset_index(drop=True)\n",
    "    return table\n",
    "\n",
    "minutes_ultra_Moscow = blowout(minutes_ultra_Moscow)\n",
    "minutes_ultra_not_Moscow = blowout(minutes_ultra_not_Moscow)\n",
    "minutes_smart_Moscow = blowout(minutes_smart_Moscow)\n",
    "minutes_smart_not_Moscow = blowout(minutes_smart_not_Moscow)\n",
    "\n",
    "sms_ultra_Moscow = blowout(sms_ultra_Moscow)\n",
    "sms_ultra_not_Moscow = blowout(sms_ultra_not_Moscow)\n",
    "sms_smart_Moscow = blowout(sms_smart_Moscow)\n",
    "sms_smart_not_Moscow = blowout(sms_smart_not_Moscow)\n",
    "\n",
    "traf_ultra_Moscow = blowout(traf_ultra_Moscow)\n",
    "traf_ultra_not_Moscow = blowout(traf_ultra_not_Moscow)\n",
    "traf_smart_Moscow = blowout(traf_smart_Moscow)\n",
    "traf_smart_not_Moscow = blowout(traf_smart_not_Moscow)"
   ]
  },
  {
   "cell_type": "code",
   "execution_count": null,
   "metadata": {
    "scrolled": false
   },
   "outputs": [],
   "source": [
    "hist_box_do(minutes_ultra_Moscow, table_names[0])\n",
    "hist_box_do(minutes_ultra_not_Moscow, table_names[1])\n",
    "hist_box_do(minutes_smart_Moscow, table_names[2])\n",
    "hist_box_do(minutes_smart_not_Moscow, table_names[3])\n",
    "\n",
    "hist_box_do(sms_ultra_Moscow, table_names[4])\n",
    "hist_box_do(sms_ultra_not_Moscow, table_names[5])\n",
    "hist_box_do(sms_smart_Moscow, table_names[6])\n",
    "hist_box_do(sms_smart_not_Moscow, table_names[7])\n",
    "\n",
    "hist_box_do(traf_ultra_Moscow, table_names[8])\n",
    "hist_box_do(traf_ultra_not_Moscow, table_names[9])\n",
    "hist_box_do(traf_smart_Moscow, table_names[10])\n",
    "hist_box_do(traf_smart_not_Moscow, table_names[11])"
   ]
  },
  {
   "cell_type": "markdown",
   "metadata": {},
   "source": [
    "## Conclusion"
   ]
  },
  {
   "cell_type": "markdown",
   "metadata": {},
   "source": [
    "Based on the histograms, we can make an obvious conclusion that SMS is rarely used by anyone.\n",
    "\n",
    "In the tariff `\"Ultra\"`: <br />\n",
    "Both in Moscow and in the regions, users do not even go beyond the limits of the service package. <br />\n",
    "In the tariff `\"Smart\"`: <br />\n",
    "Both in Moscow and in the regions, users are close to going beyond the limits for the number of minutes and SMS, and slightly go beyond the limits of the standard Internet traffic package."
   ]
  },
  {
   "cell_type": "markdown",
   "metadata": {},
   "source": [
    "# Part 4. Hypothesis testing"
   ]
  },
  {
   "cell_type": "markdown",
   "metadata": {},
   "source": [
    "### Null hypothesis:\n",
    "average revenue from users of Ultra tariffs is equal to average revenue from users of Smart tariffs <br />\n",
    "### Alternative:\n",
    "average revenue from Ultra users is NOT equal to average revenue from Smart users <br />\n",
    "### alpha:\n",
    "0.05"
   ]
  },
  {
   "cell_type": "markdown",
   "metadata": {},
   "source": [
    "### Null hypothesis:\n",
    "average revenue from users of Ultra tariffs is equal to average revenue from users of Smart tariffs <br />\n",
    "### Alternative:\n",
    "average revenue from Ultra users is NOT equal to average revenue from Smart users <br />\n",
    "### alpha:\n",
    "0.05"
   ]
  },
  {
   "cell_type": "code",
   "execution_count": null,
   "metadata": {},
   "outputs": [],
   "source": [
    "profit_tariff_ultra = df_general.loc[df_general['tariff'] == 'ultra', 'profit']\n",
    "profit_tariff_smart = df_general.loc[df_general['tariff'] == 'smart', 'profit']\n",
    "\n",
    "alpha = 0.05\n",
    "\n",
    "results = st.ttest_ind(\n",
    "    profit_tariff_ultra, \n",
    "    profit_tariff_smart)\n",
    "\n",
    "print('p-value: ', results.pvalue)\n",
    "\n",
    "if (results.pvalue < alpha):\n",
    "    print(\"Rejecting the null hypothesis\")\n",
    "else:\n",
    "    print(\"Failed to reject the null hypothesis\")"
   ]
  },
  {
   "cell_type": "markdown",
   "metadata": {},
   "source": [
    "## Conclusion\n",
    "The null hypothesis was rejected, which means that the average revenue from Ultra tariff users is not equal to the average revenue from Smart tariff users."
   ]
  },
  {
   "cell_type": "markdown",
   "metadata": {},
   "source": [
    "## Testing the hypothesis that the average revenue from users from Moscow differs from revenue from users from other regions"
   ]
  },
  {
   "cell_type": "markdown",
   "metadata": {},
   "source": [
    "### Null hypothesis:\n",
    "average revenue from users from Moscow is equal to revenue from users from other regions <br />\n",
    "### Alternative:\n",
    "average revenue from users from Moscow is NOT equal to revenue from users from other regions <br />\n",
    "### alpha:\n",
    "0.05"
   ]
  },
  {
   "cell_type": "code",
   "execution_count": null,
   "metadata": {},
   "outputs": [],
   "source": [
    "profit_p_from_Moscow = df_general.loc[df_general['city'] == 'Москва', 'profit']\n",
    "profit_p_not_from_Moscow = df_general.loc[df_general['city'] != 'Москва', 'profit']\n",
    "\n",
    "alpha = 0.05\n",
    "\n",
    "results = st.ttest_ind(\n",
    "    profit_p_from_Moscow, \n",
    "    profit_p_not_from_Moscow)\n",
    "\n",
    "print('p-value: ', results.pvalue)\n",
    "\n",
    "if (results.pvalue < alpha):\n",
    "    print(\"Rejecting the null hypothesis\")\n",
    "else:\n",
    "    print(\"Failed to reject the null hypothesis\")"
   ]
  },
  {
   "cell_type": "markdown",
   "metadata": {},
   "source": [
    "## Conclusion\n",
    "The null hypothesis was not rejected, which means that there are no significant differences between the samples."
   ]
  },
  {
   "cell_type": "markdown",
   "metadata": {},
   "source": [
    "# Part 5. Conclusion"
   ]
  },
  {
   "cell_type": "markdown",
   "metadata": {},
   "source": [
    "### Total Moscow revenue for the year for each tariff, rub:"
   ]
  },
  {
   "cell_type": "code",
   "execution_count": null,
   "metadata": {},
   "outputs": [],
   "source": [
    "profit_p_from_Moscow_ultra = df_general.loc[(df_general['tariff'] == 'ultra') & (df_general['city'] == 'Москва'), 'profit']\n",
    "profit_p_from_Moscow_smart = df_general.loc[(df_general['tariff'] == 'smart') & (df_general['city'] == 'Москва'), 'profit']\n",
    "\n",
    "print('Revenue')\n",
    "print('Ultra', profit_p_from_Moscow_ultra.sum())\n",
    "print('Smart', profit_p_from_Moscow_smart.sum())\n",
    "print()\n",
    "\n",
    "print('Call duration')\n",
    "print('Ultra', minutes_ultra_Moscow.mean())\n",
    "print('Smart', minutes_smart_Moscow.mean())\n",
    "print()\n",
    "\n",
    "print('Number of SMS')\n",
    "print('Ultra', sms_ultra_Moscow.mean())\n",
    "print('Smart', sms_smart_Moscow.mean())\n",
    "print()\n",
    "\n",
    "print('Internet traffic')\n",
    "print('Ultra', traf_ultra_Moscow.mean())\n",
    "print('Smart', traf_smart_Moscow.mean())\n",
    "print()"
   ]
  },
  {
   "cell_type": "markdown",
   "metadata": {},
   "source": [
    "### Total regional revenue for the year for each tariff, rub:"
   ]
  },
  {
   "cell_type": "code",
   "execution_count": null,
   "metadata": {
    "scrolled": true
   },
   "outputs": [],
   "source": [
    "profit_p_not_from_Moscow_ultra = df_general.loc[(df_general['tariff'] == 'ultra') & (df_general['city'] != 'Москва'), 'profit']\n",
    "profit_p_not_from_Moscow_smart = df_general.loc[(df_general['tariff'] == 'smart') & (df_general['city'] != 'Москва'), 'profit']\n",
    "\n",
    "print('Revenue')\n",
    "print('Ultra', profit_p_not_from_Moscow_ultra.sum())\n",
    "print('Smart', profit_p_not_from_Moscow_smart.sum())\n",
    "print()\n",
    "\n",
    "print('Call duration')\n",
    "print('Ultra', minutes_ultra_not_Moscow.mean())\n",
    "print('Smart', minutes_smart_not_Moscow.mean())\n",
    "print()\n",
    "\n",
    "print('Number of SMS')\n",
    "print('Ultra', sms_ultra_not_Moscow.mean())\n",
    "print('Smart', sms_smart_not_Moscow.mean())\n",
    "print()\n",
    "\n",
    "print('Internet traffic')\n",
    "print('Ultra', traf_ultra_not_Moscow.mean())\n",
    "print('Smart', traf_smart_not_Moscow.mean())\n",
    "print()"
   ]
  },
  {
   "cell_type": "markdown",
   "metadata": {},
   "source": [
    "## Conclusions:\n",
    "1. The average duration of calls, number of SMS and Internet traffic is close to the \"Smart\" tariff both in the regions and in Moscow.\n",
    "2. The revenue from the \"Ultra\" tariff in Moscow is slightly higher than from the \"Smart\" tariff, but in the region, the \"Smart\" tariff is confidently leading in terms of revenue."
   ]
  },
  {
   "cell_type": "markdown",
   "metadata": {},
   "source": [
    "### Therefore, from the point of view of revenue, in Moscow it will be more profitable to advertise the \"Ultra\" tariff, and in the regions the \"Smart\" tariff."
   ]
  },
  {
   "cell_type": "markdown",
   "metadata": {},
   "source": [
    "### Average user spending by tariffs\n",
    "Tariff `\"Ultra\"`: <br />\n",
    "\n",
    "Both in Moscow and in the regions, users do not even go beyond the limits of the service package.\n",
    "\n",
    "Tariff `\"Smart\"`: <br />\n",
    "\n",
    "Both in Moscow and in the regions, users are close to going beyond the limits for the number of minutes and SMS, and slightly go beyond the limits of the standard Internet traffic package."
   ]
  },
  {
   "cell_type": "code",
   "execution_count": null,
   "metadata": {},
   "outputs": [],
   "source": []
  }
 ],
 "metadata": {
  "kernelspec": {
   "display_name": "Python 3",
   "language": "python",
   "name": "python3"
  },
  "language_info": {
   "codemirror_mode": {
    "name": "ipython",
    "version": 3
   },
   "file_extension": ".py",
   "mimetype": "text/x-python",
   "name": "python",
   "nbconvert_exporter": "python",
   "pygments_lexer": "ipython3",
   "version": "3.8.8"
  },
  "toc": {
   "base_numbering": 1,
   "nav_menu": {},
   "number_sections": true,
   "sideBar": true,
   "skip_h1_title": false,
   "title_cell": "Table of Contents",
   "title_sidebar": "Contents",
   "toc_cell": false,
   "toc_position": {},
   "toc_section_display": true,
   "toc_window_display": false
  },
  "varInspector": {
   "cols": {
    "lenName": 16,
    "lenType": 16,
    "lenVar": 40
   },
   "kernels_config": {
    "python": {
     "delete_cmd_postfix": "",
     "delete_cmd_prefix": "del ",
     "library": "var_list.py",
     "varRefreshCmd": "print(var_dic_list())"
    },
    "r": {
     "delete_cmd_postfix": ") ",
     "delete_cmd_prefix": "rm(",
     "library": "var_list.r",
     "varRefreshCmd": "cat(var_dic_list()) "
    }
   },
   "types_to_exclude": [
    "module",
    "function",
    "builtin_function_or_method",
    "instance",
    "_Feature"
   ],
   "window_display": false
  }
 },
 "nbformat": 4,
 "nbformat_minor": 4
}
